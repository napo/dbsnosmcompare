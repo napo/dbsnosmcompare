{
 "cells": [
  {
   "cell_type": "code",
   "execution_count": 49,
   "metadata": {},
   "outputs": [],
   "source": [
    "import geopandas as gpd\n",
    "import os\n",
    "import fiona\n",
    "import matplotlib.pyplot as plt\n",
    "import pandas as pd\n",
    "import re"
   ]
  },
  {
   "cell_type": "code",
   "execution_count": 50,
   "metadata": {},
   "outputs": [],
   "source": [
    "osm_sources = {}\n",
    "osm_sources[\"Matera\"] = \"077_Matera_poly-2022-05-17T07Z.gpkg\"\n",
    "osm_sources['Potenza'] = '076_Potenza_poly-2022-05-17T07Z.gpkg'\n",
    "osm_sources['Campobasso'] = \"070_Campobasso_poly-2022-05-17T07Z.gpkg\"\n",
    "osm_sources['Isernia'] = \"094_Isernia_poly-2022-05-17T07Z.gpkg\"\n",
    "osm_sources['Pesaro e Urbino'] = '041_Pesaro e Urbino_poly-2023-02-25T16Z.gpkg'   \n",
    "osm_sources['Caserta'] = '061_Caserta_poly-2022-05-17T07Z.gpkg'\n",
    "osm_sources['Catanzaro'] = '079_Catanzaro_poly-2022-05-17T07Z.gpkg'\n",
    "osm_sources['Ancona'] = '042_Ancona_poly-2022-05-17T07Z.gpkg'\n",
    "osm_sources['Benevento'] = '062_Benevento_poly-2022-05-17T07Z.gpkg'\n",
    "osm_sources['Reggio di Calabria'] = '080_Reggio di Calabria_poly-2023-02-25T16Z.gpkg'\n",
    "osm_sources['Macerata'] = '043_Macerata_poly-2022-05-17T07Z.gpkg'\n",
    "osm_sources['Napoli'] = '063_Napoli_poly-2022-05-17T07Z.gpkg'\n",
    "osm_sources['Trapani']  = '081_Trapani_poly-2022-05-17T07Z.gpkg'\n",
    "osm_sources['Ascoli Piceno'] = '044_Ascoli Piceno_poly-2023-02-25T16Z.gpkg'\n",
    "osm_sources['Avellino'] = '064_Avellino_poly-2022-05-17T07Z.gpkg'\n",
    "osm_sources['Palermo'] = '082_Palermo_poly-2022-05-17T07Z.gpkg'\n",
    "osm_sources['Massa Carrara'] = '045_Massa-Carrara_poly-2022-05-17T07Z.gpkg'     \n",
    "osm_sources[\"Salerno\"] = \"065_Salerno_poly-2022-05-17T07Z.gpkg\"\n",
    "osm_sources[\"Messina\"] = \"083_Messina_poly-2022-05-17T07Z.gpkg\"\n",
    "osm_sources[\"Lucca\"] = \"046_Lucca_poly-2022-05-17T07Z.gpkg\"\n",
    "osm_sources[\"L'Aquila\"] = \"066_L'Aquila_poly-2023-02-25T16Z.gpkg\"\n",
    "osm_sources[\"Agrigento\"] = \"084_Agrigento_poly-2022-05-17T07Z.gpkg\"\n",
    "osm_sources[\"Pistoia\"] = \"047_Pistoia_poly-2022-05-17T07Z.gpkg\"\n",
    "osm_sources[\"Teramo\"] = \"067_Teramo_poly-2022-05-17T07Z.gpkg\"\n",
    "osm_sources[\"Caltanissetta\"] = \"085_Caltanissetta_poly-2022-05-17T07Z.gpkg\"\n",
    "osm_sources[\"Firenze\"] = \"048_Firenze_poly-2022-05-17T07Z.gpkg\"\n",
    "osm_sources[\"Pescara\"] = \"068_Pescara_poly-2022-05-17T07Z.gpkg\"\n",
    "osm_sources[\"Enna\"] = \"086_Enna_poly-2022-05-17T07Z.gpkg\"\n",
    "osm_sources[\"Livorno\"] = \"049_Livorno_poly-2022-05-17T07Z.gpkg\"\n",
    "osm_sources[\"Chieti\"] = \"069_Chieti_poly-2022-05-17T07Z.gpkg\"\n",
    "osm_sources[\"Catania\"] = \"087_Catania_poly-2022-05-17T07Z.gpkg\"\n",
    "osm_sources[\"Pisa\"] = \"050_Pisa_poly-2022-05-17T07Z.gpkg\"\n",
    "osm_sources[\"Campobasso\"] = \"070_Campobasso_poly-2022-05-17T07Z.gpkg\"\n",
    "osm_sources[\"Ragusa\"] = \"088_Ragusa_poly-2022-05-17T07Z.gpkg\"\n",
    "osm_sources[\"Arezzo\"] = \"051_Arezzo_poly-2022-05-17T07Z.gpkg\"\n",
    "osm_sources[\"Foggia\"] = \"071_Foggia_poly-2022-05-17T07Z.gpkg\"\n",
    "osm_sources[\"Siracusa\"] = \"089_Siracusa_poly-2022-05-17T07Z.gpkg\"\n",
    "osm_sources[\"Siena\"] = \"052_Siena_poly-2022-05-17T07Z.gpkg\"\n",
    "osm_sources[\"Bari\"] = \"072_Bari_poly-2022-05-17T07Z.gpkg\"\n",
    "osm_sources[\"Isernia\"] = \"094_Isernia_poly-2022-05-17T07Z.gpkg\"\n",
    "osm_sources[\"Grosseto\"] = \"053_Grosseto_poly-2022-05-17T07Z.gpkg\"\n",
    "osm_sources[\"Taranto\"] = \"073_Taranto_poly-2022-05-17T07Z.gpkg\"\n",
    "osm_sources[\"Prato\"] = \"100_Prato_poly-2022-05-17T07Z.gpkg\"\n",
    "osm_sources[\"Viterbo\"] = \"056_Viterbo_poly-2022-05-17T07Z.gpkg\"\n",
    "osm_sources[\"Brindisi\"] = \"074_Brindisi_poly-2022-05-17T07Z.gpkg\"\n",
    "osm_sources[\"Crotone\"] = \"101_Crotone_poly-2022-05-17T07Z.gpkg\"\n",
    "osm_sources[\"Vibo Valentia\"] = \"102_Vibo Valentia_poly-2023-02-25T16Z.gpkg\"\n",
    "osm_sources[\"Viterbo\"] = \"056_Viterbo_poly-2022-05-17T07Z.gpkg\"\n",
    "osm_sources[\"Brindisi\"] = \"074_Brindisi_poly-2022-05-17T07Z.gpkg\"\n",
    "osm_sources[\"Rieti\"] = \"057_Rieti_poly-2022-05-17T07Z.gpkg\"\n",
    "osm_sources[\"Lecce\"] = \"075_Lecce_poly-2022-05-17T07Z.gpkg\"\n",
    "osm_sources[\"Vibo Valentia\"] = \"102_Vibo Valentia_poly-2023-02-25T16Z.gpkg\"\n",
    "osm_sources[\"Roma\"] = \"058_Roma Capitale_poly-2023-02-25T16Z.gpkg\"\n",
    "osm_sources[\"Potenza\"] = \"076_Potenza_poly-2022-05-17T07Z.gpkg\"\n",
    "osm_sources[\"Fermo\"] = \"109_Fermo_poly-2022-05-17T07Z.gpkg\"\n",
    "osm_sources[\"Barletta-Andria-Trani\"] = \"110_Barletta-Andria-Trani_poly-2022-05-17T07Z.gpkg\"\n",
    "osm_sources[\"Perugia\"] = \"054_Perugia_poly-2022-05-17T07Z.gpkg\"\n",
    "osm_sources[\"Terni\"] = \"055_Terni_poly-2022-05-17T07Z.gpkg\"\n",
    "provinces = list(osm_sources.keys())"
   ]
  },
  {
   "cell_type": "code",
   "execution_count": 51,
   "metadata": {},
   "outputs": [],
   "source": [
    "igm_sources = {}\n",
    "for k in osm_sources.keys():\n",
    "    name = k + \"_dbsn.gdb\"\n",
    "    igm_sources[k] = name"
   ]
  },
  {
   "cell_type": "code",
   "execution_count": 52,
   "metadata": {},
   "outputs": [],
   "source": [
    "province_regioni = {'Matera': 'Basilicata',\n",
    "                     'Potenza': 'Basilicata',\n",
    "                     'Campobasso': 'Molise',\n",
    "                     'Isernia': 'Molise',\n",
    "                     'Pesaro e Urbino': 'Marche',\n",
    "                     'Caserta': 'Campania',\n",
    "                     'Catanzaro': 'Calabria',\n",
    "                     'Ancona': 'Marche',\n",
    "                     'Benevento': 'Campania',\n",
    "                     'Reggio di Calabria': 'Calabria',\n",
    "                     'Macerata': 'Marche',\n",
    "                     'Napoli': 'Campania',\n",
    "                     'Trapani': 'Sicilia',\n",
    "                     'Ascoli Piceno': 'Marche',\n",
    "                     'Avellino': 'Campania',\n",
    "                     'Palermo': 'Sicilia',\n",
    "                     'Massa Carrara': 'Toscana',\n",
    "                     'Salerno': 'Campania',\n",
    "                     'Messina': 'Sicilia',\n",
    "                     'Lucca': 'Toscana',\n",
    "                     \"L'Aquila\": 'Abruzzo',\n",
    "                     'Agrigento': 'Sicilia',\n",
    "                     'Pistoia': 'Toscana',\n",
    "                     'Teramo': 'Abruzzo',\n",
    "                     'Caltanissetta': 'Sicilia',\n",
    "                     'Firenze': 'Toscana',\n",
    "                     'Pescara': 'Abruzzo',\n",
    "                     'Enna': 'Sicilia',\n",
    "                     'Livorno': 'Toscana',\n",
    "                     'Chieti': 'Abruzzo',\n",
    "                     'Catania': 'Sicilia',\n",
    "                     'Pisa': 'Toscana',\n",
    "                     'Ragusa': 'Sicilia',\n",
    "                     'Arezzo': 'Toscana',\n",
    "                     'Foggia': 'Puglia',\n",
    "                     'Siracusa': 'Sicilia',\n",
    "                     'Siena': 'Toscana',\n",
    "                     'Bari': 'Puglia',\n",
    "                     'Grosseto': 'Toscana',\n",
    "                     'Taranto': 'Puglia',\n",
    "                     'Prato': 'Toscana',\n",
    "                     'Viterbo': 'Lazio',\n",
    "                     'Brindisi': 'Puglia',\n",
    "                     'Crotone': 'Calabria',\n",
    "                     'Vibo Valentia': 'Calabria',\n",
    "                     'Rieti': 'Lazio',\n",
    "                     'Lecce': 'Puglia',\n",
    "                     'Roma': 'Lazio',\n",
    "                     'Fermo': 'Marche',\n",
    "                     'Barletta-Andria-Trani': 'Puglia',\n",
    "                     'Perugia':'Umbria',\n",
    "                     'Terni':'Umbria',\n",
    "                     'Cagliari':'Sardegna',\n",
    "                     'Nuoro':'Sardegna',\n",
    "                     'Oristano':'Sardegna',\n",
    "                     'Sassari':'Sardegna',\n",
    "                     'Sud Sardegna':'Sardegna'}"
   ]
  },
  {
   "cell_type": "code",
   "execution_count": 53,
   "metadata": {},
   "outputs": [
    {
     "ename": "DriverError",
     "evalue": "../Perugia_dbsn.gdb: Input/output error",
     "output_type": "error",
     "traceback": [
      "\u001b[0;31m---------------------------------------------------------------------------\u001b[0m",
      "\u001b[0;31mCPLE_OpenFailedError\u001b[0m                      Traceback (most recent call last)",
      "File \u001b[0;32mfiona/_shim.pyx:83\u001b[0m, in \u001b[0;36mfiona._shim.gdal_open_vector\u001b[0;34m()\u001b[0m\n",
      "File \u001b[0;32mfiona/_err.pyx:291\u001b[0m, in \u001b[0;36mfiona._err.exc_wrap_pointer\u001b[0;34m()\u001b[0m\n",
      "\u001b[0;31mCPLE_OpenFailedError\u001b[0m: ../Perugia_dbsn.gdb: Input/output error",
      "\nDuring handling of the above exception, another exception occurred:\n",
      "\u001b[0;31mDriverError\u001b[0m                               Traceback (most recent call last)",
      "Cell \u001b[0;32mIn [53], line 1\u001b[0m\n\u001b[0;32m----> 1\u001b[0m igm_layers_list \u001b[39m=\u001b[39m fiona\u001b[39m.\u001b[39;49mlistlayers(\u001b[39m\"\u001b[39;49m\u001b[39m../\u001b[39;49m\u001b[39m\"\u001b[39;49m \u001b[39m+\u001b[39;49m igm_sources[\u001b[39m\"\u001b[39;49m\u001b[39mPerugia\u001b[39;49m\u001b[39m\"\u001b[39;49m])\n\u001b[1;32m      2\u001b[0m \u001b[39mprint\u001b[39m(igm_layers_list)\n",
      "File \u001b[0;32m~/.local/lib/python3.10/site-packages/fiona/env.py:417\u001b[0m, in \u001b[0;36mensure_env_with_credentials.<locals>.wrapper\u001b[0;34m(*args, **kwargs)\u001b[0m\n\u001b[1;32m    415\u001b[0m \u001b[39mwith\u001b[39;00m Env\u001b[39m.\u001b[39mfrom_defaults(session\u001b[39m=\u001b[39msession):\n\u001b[1;32m    416\u001b[0m     log\u001b[39m.\u001b[39mdebug(\u001b[39m\"\u001b[39m\u001b[39mCredentialized: \u001b[39m\u001b[39m{!r}\u001b[39;00m\u001b[39m\"\u001b[39m\u001b[39m.\u001b[39mformat(getenv()))\n\u001b[0;32m--> 417\u001b[0m     \u001b[39mreturn\u001b[39;00m f(\u001b[39m*\u001b[39;49margs, \u001b[39m*\u001b[39;49m\u001b[39m*\u001b[39;49mkwargs)\n",
      "File \u001b[0;32m~/.local/lib/python3.10/site-packages/fiona/__init__.py:362\u001b[0m, in \u001b[0;36mlistlayers\u001b[0;34m(fp, vfs)\u001b[0m\n\u001b[1;32m    359\u001b[0m \u001b[39melse\u001b[39;00m:\n\u001b[1;32m    360\u001b[0m     pobj \u001b[39m=\u001b[39m parse_path(fp)\n\u001b[0;32m--> 362\u001b[0m \u001b[39mreturn\u001b[39;00m _listlayers(vsi_path(pobj))\n",
      "File \u001b[0;32mfiona/ogrext.pyx:1659\u001b[0m, in \u001b[0;36mfiona.ogrext._listlayers\u001b[0;34m()\u001b[0m\n",
      "File \u001b[0;32mfiona/_shim.pyx:90\u001b[0m, in \u001b[0;36mfiona._shim.gdal_open_vector\u001b[0;34m()\u001b[0m\n",
      "\u001b[0;31mDriverError\u001b[0m: ../Perugia_dbsn.gdb: Input/output error"
     ]
    }
   ],
   "source": [
    "igm_layers_list = fiona.listlayers(\"../\" + igm_sources[\"Perugia\"])\n",
    "print(igm_layers_list)"
   ]
  },
  {
   "cell_type": "code",
   "execution_count": null,
   "metadata": {},
   "outputs": [
    {
     "name": "stdout",
     "output_type": "stream",
     "text": [
      "shell-init: error retrieving current directory: getcwd: cannot access parent directories: Input/output error\n",
      "pwd: error retrieving current directory: getcwd: cannot access parent directories: Input/output error\n"
     ]
    }
   ],
   "source": [
    "!pwd"
   ]
  },
  {
   "cell_type": "code",
   "execution_count": null,
   "metadata": {},
   "outputs": [
    {
     "name": "stdout",
     "output_type": "stream",
     "text": [
      "Matera\n"
     ]
    },
    {
     "ename": "DriverError",
     "evalue": "../Matera_dbsn.gdb: Input/output error",
     "output_type": "error",
     "traceback": [
      "\u001b[0;31m---------------------------------------------------------------------------\u001b[0m",
      "\u001b[0;31mCPLE_OpenFailedError\u001b[0m                      Traceback (most recent call last)",
      "File \u001b[0;32mfiona/_shim.pyx:83\u001b[0m, in \u001b[0;36mfiona._shim.gdal_open_vector\u001b[0;34m()\u001b[0m\n",
      "File \u001b[0;32mfiona/_err.pyx:291\u001b[0m, in \u001b[0;36mfiona._err.exc_wrap_pointer\u001b[0;34m()\u001b[0m\n",
      "\u001b[0;31mCPLE_OpenFailedError\u001b[0m: ../Matera_dbsn.gdb: Input/output error",
      "\nDuring handling of the above exception, another exception occurred:\n",
      "\u001b[0;31mDriverError\u001b[0m                               Traceback (most recent call last)",
      "Cell \u001b[0;32mIn [7], line 5\u001b[0m\n\u001b[1;32m      3\u001b[0m \u001b[39mprint\u001b[39m(province)\n\u001b[1;32m      4\u001b[0m dfdata \u001b[39m=\u001b[39m []\n\u001b[0;32m----> 5\u001b[0m igm_layers_list \u001b[39m=\u001b[39m fiona\u001b[39m.\u001b[39;49mlistlayers(\u001b[39m\"\u001b[39;49m\u001b[39m../\u001b[39;49m\u001b[39m\"\u001b[39;49m \u001b[39m+\u001b[39;49m igm_sources[province])\n\u001b[1;32m      6\u001b[0m \u001b[39mfor\u001b[39;00m l \u001b[39min\u001b[39;00m igm_layers_list:\n\u001b[1;32m      7\u001b[0m      fdata \u001b[39m=\u001b[39m {}\n",
      "File \u001b[0;32m~/.local/lib/python3.10/site-packages/fiona/env.py:417\u001b[0m, in \u001b[0;36mensure_env_with_credentials.<locals>.wrapper\u001b[0;34m(*args, **kwargs)\u001b[0m\n\u001b[1;32m    415\u001b[0m \u001b[39mwith\u001b[39;00m Env\u001b[39m.\u001b[39mfrom_defaults(session\u001b[39m=\u001b[39msession):\n\u001b[1;32m    416\u001b[0m     log\u001b[39m.\u001b[39mdebug(\u001b[39m\"\u001b[39m\u001b[39mCredentialized: \u001b[39m\u001b[39m{!r}\u001b[39;00m\u001b[39m\"\u001b[39m\u001b[39m.\u001b[39mformat(getenv()))\n\u001b[0;32m--> 417\u001b[0m     \u001b[39mreturn\u001b[39;00m f(\u001b[39m*\u001b[39;49margs, \u001b[39m*\u001b[39;49m\u001b[39m*\u001b[39;49mkwargs)\n",
      "File \u001b[0;32m~/.local/lib/python3.10/site-packages/fiona/__init__.py:362\u001b[0m, in \u001b[0;36mlistlayers\u001b[0;34m(fp, vfs)\u001b[0m\n\u001b[1;32m    359\u001b[0m \u001b[39melse\u001b[39;00m:\n\u001b[1;32m    360\u001b[0m     pobj \u001b[39m=\u001b[39m parse_path(fp)\n\u001b[0;32m--> 362\u001b[0m \u001b[39mreturn\u001b[39;00m _listlayers(vsi_path(pobj))\n",
      "File \u001b[0;32mfiona/ogrext.pyx:1659\u001b[0m, in \u001b[0;36mfiona.ogrext._listlayers\u001b[0;34m()\u001b[0m\n",
      "File \u001b[0;32mfiona/_shim.pyx:90\u001b[0m, in \u001b[0;36mfiona._shim.gdal_open_vector\u001b[0;34m()\u001b[0m\n",
      "\u001b[0;31mDriverError\u001b[0m: ../Matera_dbsn.gdb: Input/output error"
     ]
    }
   ],
   "source": [
    "#dfdata = []\n",
    "for province in provinces:\n",
    "     print(province)\n",
    "     dfdata = []\n",
    "     igm_layers_list = fiona.listlayers(\"../\" + igm_sources[province])\n",
    "     for l in igm_layers_list:\n",
    "          fdata = {}\n",
    "          data = gpd.read_file(\"../\" + igm_sources[province],layer=l)\n",
    "          fdata['name'] = l\n",
    "          fdata['objects'] = data.shape[0]\n",
    "          data['meta_ist'] = data['meta_ist'].fillna(\"zero\")\n",
    "          osm_objects = 0\n",
    "          sources = data.meta_ist.unique()\n",
    "          regex = re.compile(r'.*03|=>.*')\n",
    "          find_osm_sources = list(filter(regex.match, sources))\n",
    "          if len(find_osm_sources) > 0:\n",
    "             for id in find_osm_sources:\n",
    "                  osm_objects += data[data.meta_ist == id].shape[0]\n",
    "          fdata['osm_objects'] = osm_objects\n",
    "          fdata['provice'] = province\n",
    "          dfdata.append(fdata)\n",
    "     pd.DataFrame(dfdata).to_parquet(province + \"_dbsn.parquet\",index=False)\n",
    "          "
   ]
  },
  {
   "cell_type": "code",
   "execution_count": null,
   "metadata": {},
   "outputs": [],
   "source": [
    "pd.DataFrame(dfdata).to_csv(\"/tmp/perugia.csv\",index=False)"
   ]
  }
 ],
 "metadata": {
  "kernelspec": {
   "display_name": "Python 3",
   "language": "python",
   "name": "python3"
  },
  "language_info": {
   "codemirror_mode": {
    "name": "ipython",
    "version": 3
   },
   "file_extension": ".py",
   "mimetype": "text/x-python",
   "name": "python",
   "nbconvert_exporter": "python",
   "pygments_lexer": "ipython3",
   "version": "3.10.6"
  },
  "orig_nbformat": 4,
  "vscode": {
   "interpreter": {
    "hash": "e7370f93d1d0cde622a1f8e1c04877d8463912d04d973331ad4851f04de6915a"
   }
  }
 },
 "nbformat": 4,
 "nbformat_minor": 2
}
