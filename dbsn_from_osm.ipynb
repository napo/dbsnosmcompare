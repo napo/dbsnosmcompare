{
 "cells": [
  {
   "cell_type": "code",
   "execution_count": 1,
   "metadata": {},
   "outputs": [
    {
     "name": "stderr",
     "output_type": "stream",
     "text": [
      "/home/napo/.local/lib/python3.10/site-packages/geopandas/_compat.py:123: UserWarning: The Shapely GEOS version (3.11.0dev-CAPI-1.16.0) is incompatible with the GEOS version PyGEOS was compiled with (3.10.3-CAPI-1.16.1). Conversions between both will be slow.\n",
      "  warnings.warn(\n"
     ]
    }
   ],
   "source": [
    "import geopandas as gpd\n",
    "import os\n",
    "import fiona\n",
    "import matplotlib.pyplot as plt\n",
    "import pandas as pd\n",
    "import re"
   ]
  },
  {
   "cell_type": "code",
   "execution_count": 2,
   "metadata": {},
   "outputs": [],
   "source": [
    "osm_sources = {}\n",
    "osm_sources[\"Matera\"] = \"077_Matera_poly-2022-05-17T07Z.gpkg\"\n",
    "osm_sources['Potenza'] = '076_Potenza_poly-2022-05-17T07Z.gpkg'\n",
    "osm_sources['Campobasso'] = \"070_Campobasso_poly-2022-05-17T07Z.gpkg\"\n",
    "osm_sources['Isernia'] = \"094_Isernia_poly-2022-05-17T07Z.gpkg\"\n",
    "osm_sources['Pesaro e Urbino'] = '041_Pesaro e Urbino_poly-2023-02-25T16Z.gpkg'   \n",
    "osm_sources['Caserta'] = '061_Caserta_poly-2022-05-17T07Z.gpkg'\n",
    "osm_sources['Catanzaro'] = '079_Catanzaro_poly-2022-05-17T07Z.gpkg'\n",
    "osm_sources['Ancona'] = '042_Ancona_poly-2022-05-17T07Z.gpkg'\n",
    "osm_sources['Benevento'] = '062_Benevento_poly-2022-05-17T07Z.gpkg'\n",
    "osm_sources['Reggio di Calabria'] = '080_Reggio di Calabria_poly-2023-02-25T16Z.gpkg'\n",
    "osm_sources['Macerata'] = '043_Macerata_poly-2022-05-17T07Z.gpkg'\n",
    "osm_sources['Napoli'] = '063_Napoli_poly-2022-05-17T07Z.gpkg'\n",
    "osm_sources['Trapani']  = '081_Trapani_poly-2022-05-17T07Z.gpkg'\n",
    "osm_sources['Ascoli Piceno'] = '044_Ascoli Piceno_poly-2023-02-25T16Z.gpkg'\n",
    "osm_sources['Avellino'] = '064_Avellino_poly-2022-05-17T07Z.gpkg'\n",
    "osm_sources['Palermo'] = '082_Palermo_poly-2022-05-17T07Z.gpkg'\n",
    "osm_sources['Massa Carrara'] = '045_Massa-Carrara_poly-2022-05-17T07Z.gpkg'     \n",
    "osm_sources[\"Salerno\"] = \"065_Salerno_poly-2022-05-17T07Z.gpkg\"\n",
    "osm_sources[\"Messina\"] = \"083_Messina_poly-2022-05-17T07Z.gpkg\"\n",
    "osm_sources[\"Lucca\"] = \"046_Lucca_poly-2022-05-17T07Z.gpkg\"\n",
    "osm_sources[\"L'Aquila\"] = \"066_L'Aquila_poly-2023-02-25T16Z.gpkg\"\n",
    "osm_sources[\"Agrigento\"] = \"084_Agrigento_poly-2022-05-17T07Z.gpkg\"\n",
    "osm_sources[\"Pistoia\"] = \"047_Pistoia_poly-2022-05-17T07Z.gpkg\"\n",
    "osm_sources[\"Teramo\"] = \"067_Teramo_poly-2022-05-17T07Z.gpkg\"\n",
    "osm_sources[\"Caltanissetta\"] = \"085_Caltanissetta_poly-2022-05-17T07Z.gpkg\"\n",
    "osm_sources[\"Firenze\"] = \"048_Firenze_poly-2022-05-17T07Z.gpkg\"\n",
    "osm_sources[\"Pescara\"] = \"068_Pescara_poly-2022-05-17T07Z.gpkg\"\n",
    "osm_sources[\"Enna\"] = \"086_Enna_poly-2022-05-17T07Z.gpkg\"\n",
    "osm_sources[\"Livorno\"] = \"049_Livorno_poly-2022-05-17T07Z.gpkg\"\n",
    "osm_sources[\"Chieti\"] = \"069_Chieti_poly-2022-05-17T07Z.gpkg\"\n",
    "osm_sources[\"Catania\"] = \"087_Catania_poly-2022-05-17T07Z.gpkg\"\n",
    "osm_sources[\"Pisa\"] = \"050_Pisa_poly-2022-05-17T07Z.gpkg\"\n",
    "osm_sources[\"Campobasso\"] = \"070_Campobasso_poly-2022-05-17T07Z.gpkg\"\n",
    "osm_sources[\"Ragusa\"] = \"088_Ragusa_poly-2022-05-17T07Z.gpkg\"\n",
    "osm_sources[\"Arezzo\"] = \"051_Arezzo_poly-2022-05-17T07Z.gpkg\"\n",
    "osm_sources[\"Foggia\"] = \"071_Foggia_poly-2022-05-17T07Z.gpkg\"\n",
    "osm_sources[\"Siracusa\"] = \"089_Siracusa_poly-2022-05-17T07Z.gpkg\"\n",
    "osm_sources[\"Siena\"] = \"052_Siena_poly-2022-05-17T07Z.gpkg\"\n",
    "osm_sources[\"Bari\"] = \"072_Bari_poly-2022-05-17T07Z.gpkg\"\n",
    "osm_sources[\"Isernia\"] = \"094_Isernia_poly-2022-05-17T07Z.gpkg\"\n",
    "osm_sources[\"Grosseto\"] = \"053_Grosseto_poly-2022-05-17T07Z.gpkg\"\n",
    "osm_sources[\"Taranto\"] = \"073_Taranto_poly-2022-05-17T07Z.gpkg\"\n",
    "osm_sources[\"Prato\"] = \"100_Prato_poly-2022-05-17T07Z.gpkg\"\n",
    "osm_sources[\"Viterbo\"] = \"056_Viterbo_poly-2022-05-17T07Z.gpkg\"\n",
    "osm_sources[\"Brindisi\"] = \"074_Brindisi_poly-2022-05-17T07Z.gpkg\"\n",
    "osm_sources[\"Crotone\"] = \"101_Crotone_poly-2022-05-17T07Z.gpkg\"\n",
    "osm_sources[\"Vibo Valentia\"] = \"102_Vibo Valentia_poly-2023-02-25T16Z.gpkg\"\n",
    "osm_sources[\"Viterbo\"] = \"056_Viterbo_poly-2022-05-17T07Z.gpkg\"\n",
    "osm_sources[\"Brindisi\"] = \"074_Brindisi_poly-2022-05-17T07Z.gpkg\"\n",
    "osm_sources[\"Rieti\"] = \"057_Rieti_poly-2022-05-17T07Z.gpkg\"\n",
    "osm_sources[\"Lecce\"] = \"075_Lecce_poly-2022-05-17T07Z.gpkg\"\n",
    "osm_sources[\"Vibo Valentia\"] = \"102_Vibo Valentia_poly-2023-02-25T16Z.gpkg\"\n",
    "osm_sources[\"Roma\"] = \"058_Roma Capitale_poly-2023-02-25T16Z.gpkg\"\n",
    "osm_sources[\"Potenza\"] = \"076_Potenza_poly-2022-05-17T07Z.gpkg\"\n",
    "osm_sources[\"Fermo\"] = \"109_Fermo_poly-2022-05-17T07Z.gpkg\"\n",
    "osm_sources[\"Barletta-Andria-Trani\"] = \"110_Barletta-Andria-Trani_poly-2022-05-17T07Z.gpkg\"\n",
    "osm_sources[\"Perugia\"] = \"054_Perugia_poly-2022-05-17T07Z.gpkg\"\n",
    "osm_sources[\"Terni\"] = \"055_Terni_poly-2022-05-17T07Z.gpkg\"\n",
    "provinces = list(osm_sources.keys())"
   ]
  },
  {
   "cell_type": "code",
   "execution_count": 3,
   "metadata": {},
   "outputs": [],
   "source": [
    "igm_sources = {}\n",
    "for k in osm_sources.keys():\n",
    "    name = k + \"_dbsn.gdb\"\n",
    "    igm_sources[k] = name"
   ]
  },
  {
   "cell_type": "code",
   "execution_count": 4,
   "metadata": {},
   "outputs": [],
   "source": [
    "province_regioni = {'Matera': 'Basilicata',\n",
    "                     'Potenza': 'Basilicata',\n",
    "                     'Campobasso': 'Molise',\n",
    "                     'Isernia': 'Molise',\n",
    "                     'Pesaro e Urbino': 'Marche',\n",
    "                     'Caserta': 'Campania',\n",
    "                     'Catanzaro': 'Calabria',\n",
    "                     'Ancona': 'Marche',\n",
    "                     'Benevento': 'Campania',\n",
    "                     'Reggio di Calabria': 'Calabria',\n",
    "                     'Macerata': 'Marche',\n",
    "                     'Napoli': 'Campania',\n",
    "                     'Trapani': 'Sicilia',\n",
    "                     'Ascoli Piceno': 'Marche',\n",
    "                     'Avellino': 'Campania',\n",
    "                     'Palermo': 'Sicilia',\n",
    "                     'Massa Carrara': 'Toscana',\n",
    "                     'Salerno': 'Campania',\n",
    "                     'Messina': 'Sicilia',\n",
    "                     'Lucca': 'Toscana',\n",
    "                     \"L'Aquila\": 'Abruzzo',\n",
    "                     'Agrigento': 'Sicilia',\n",
    "                     'Pistoia': 'Toscana',\n",
    "                     'Teramo': 'Abruzzo',\n",
    "                     'Caltanissetta': 'Sicilia',\n",
    "                     'Firenze': 'Toscana',\n",
    "                     'Pescara': 'Abruzzo',\n",
    "                     'Enna': 'Sicilia',\n",
    "                     'Livorno': 'Toscana',\n",
    "                     'Chieti': 'Abruzzo',\n",
    "                     'Catania': 'Sicilia',\n",
    "                     'Pisa': 'Toscana',\n",
    "                     'Ragusa': 'Sicilia',\n",
    "                     'Arezzo': 'Toscana',\n",
    "                     'Foggia': 'Puglia',\n",
    "                     'Siracusa': 'Sicilia',\n",
    "                     'Siena': 'Toscana',\n",
    "                     'Bari': 'Puglia',\n",
    "                     'Grosseto': 'Toscana',\n",
    "                     'Taranto': 'Puglia',\n",
    "                     'Prato': 'Toscana',\n",
    "                     'Viterbo': 'Lazio',\n",
    "                     'Brindisi': 'Puglia',\n",
    "                     'Crotone': 'Calabria',\n",
    "                     'Vibo Valentia': 'Calabria',\n",
    "                     'Rieti': 'Lazio',\n",
    "                     'Lecce': 'Puglia',\n",
    "                     'Roma': 'Lazio',\n",
    "                     'Fermo': 'Marche',\n",
    "                     'Barletta-Andria-Trani': 'Puglia',\n",
    "                     'Perugia':'Umbria',\n",
    "                     'Terni':'Umbria',\n",
    "                     'Cagliari':'Sardegna',\n",
    "                     'Nuoro':'Sardegna',\n",
    "                     'Oristano':'Sardegna',\n",
    "                     'Sassari':'Sardegna',\n",
    "                     'Sud Sardegna':'Sardegna'}"
   ]
  },
  {
   "cell_type": "code",
   "execution_count": 5,
   "metadata": {},
   "outputs": [
    {
     "name": "stdout",
     "output_type": "stream",
     "text": [
      "['ab_cda', 'acq_in', 'acq_ter', 'af_acq', 'alveo', 'argine', 'ar_mar', 'ar_nat', 'ar_vrd', 'a_scom', 'attr_sp', 'bi_ind', 'bosco', 'caposd', 'cascata', 'cl_agr', 'cm_mon', 'comune', 'condot', 'cs_mar', 'cv_aes', 'cv_dis', 'cv_liv', 'diga', 'edifc', 'edi_min', 'el_acq', 'el_fer', 'el_fne', 'el_fun', 'el_idr', 'el_met', 'el_trv', 'el_vms', 'f_nter', 'ghi_nv', 'gz_fer', 'gz_fun', 'gz_met', 'gz_trv', 'invaso', 'iz_str', 'lm_am', 'ln_btm', 'loc_sg', 'man_tr', 'meta', 'mn_ind', 'mn_int', 'mn_mau', 'mu_div', 'mu_sos', 'nd_ele', 'nd_idr', 'op_por', 'op_reg', 'pe_uins', 'provin', 'ps_inc', 'pt_btm', 'pt_quo', 'region', 'scarpt', 'sc_dis', 'sp_acq', 'stato', 'sv_aer', 'sv_fer', 'sv_por', 'sv_str', 'tralic', 'tr_ele', 'tr_str', 'v_rete', 'z_tin']\n"
     ]
    }
   ],
   "source": [
    "igm_layers_list = fiona.listlayers(\"../\" + igm_sources[\"Perugia\"])\n",
    "print(igm_layers_list)"
   ]
  },
  {
   "cell_type": "code",
   "execution_count": 7,
   "metadata": {},
   "outputs": [
    {
     "name": "stdout",
     "output_type": "stream",
     "text": [
      "Matera\n",
      "Potenza\n",
      "Campobasso\n",
      "Isernia\n",
      "Pesaro e Urbino\n",
      "Caserta\n",
      "Catanzaro\n",
      "Ancona\n",
      "Benevento\n",
      "Reggio di Calabria\n",
      "Macerata\n",
      "Napoli\n",
      "Trapani\n",
      "Ascoli Piceno\n",
      "Avellino\n",
      "Palermo\n",
      "Massa Carrara\n",
      "Salerno\n",
      "Messina\n",
      "Lucca\n",
      "L'Aquila\n",
      "Agrigento\n",
      "Pistoia\n",
      "Teramo\n",
      "Caltanissetta\n",
      "Firenze\n",
      "Pescara\n",
      "Enna\n",
      "Livorno\n",
      "Chieti\n",
      "Catania\n",
      "Pisa\n",
      "Ragusa\n",
      "Arezzo\n",
      "Foggia\n",
      "Siracusa\n",
      "Siena\n",
      "Bari\n",
      "Grosseto\n",
      "Taranto\n",
      "Prato\n",
      "Viterbo\n",
      "Brindisi\n",
      "Crotone\n",
      "Vibo Valentia\n",
      "Rieti\n",
      "Lecce\n",
      "Roma\n"
     ]
    }
   ],
   "source": [
    "#dfdata = []\n",
    "for province in provinces:\n",
    "     print(province)\n",
    "     dfdata = []\n",
    "     igm_layers_list = fiona.listlayers(\"../\" + igm_sources[province])\n",
    "     for l in igm_layers_list:\n",
    "          fdata = {}\n",
    "          data = gpd.read_file(\"../\" + igm_sources[province],layer=l)\n",
    "          fdata['name'] = l\n",
    "          fdata['objects'] = data.shape[0]\n",
    "          data['meta_ist'] = data['meta_ist'].fillna(\"zero\")\n",
    "          osm_objects = 0\n",
    "          sources = data.meta_ist.unique()\n",
    "          regex = re.compile(r'.*03|=>.*')\n",
    "          find_osm_sources = list(filter(regex.match, sources))\n",
    "          if len(find_osm_sources) > 0:\n",
    "             for id in find_osm_sources:\n",
    "                  osm_objects += data[data.meta_ist == id].shape[0]\n",
    "          fdata['osm_objects'] = osm_objects\n",
    "          fdata['provice'] = province\n",
    "          dfdata.append(fdata)\n",
    "     pd.DataFrame(dfdata).to_parquet(province + \" .parquet\",index=False)\n",
    "          "
   ]
  },
  {
   "cell_type": "code",
   "execution_count": null,
   "metadata": {},
   "outputs": [],
   "source": [
    "pd.DataFrame(dfdata).to_csv(\"/tmp/perugia.csv\",index=False)"
   ]
  }
 ],
 "metadata": {
  "kernelspec": {
   "display_name": "Python 3",
   "language": "python",
   "name": "python3"
  },
  "language_info": {
   "codemirror_mode": {
    "name": "ipython",
    "version": 3
   },
   "file_extension": ".py",
   "mimetype": "text/x-python",
   "name": "python",
   "nbconvert_exporter": "python",
   "pygments_lexer": "ipython3",
   "version": "3.10.6"
  },
  "orig_nbformat": 4,
  "vscode": {
   "interpreter": {
    "hash": "e7370f93d1d0cde622a1f8e1c04877d8463912d04d973331ad4851f04de6915a"
   }
  }
 },
 "nbformat": 4,
 "nbformat_minor": 2
}
