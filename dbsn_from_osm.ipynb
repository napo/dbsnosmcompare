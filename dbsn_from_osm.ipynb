{
 "cells": [
  {
   "cell_type": "code",
   "execution_count": 1,
   "metadata": {},
   "outputs": [
    {
     "name": "stderr",
     "output_type": "stream",
     "text": [
      "/home/napo/.local/lib/python3.10/site-packages/geopandas/_compat.py:123: UserWarning: The Shapely GEOS version (3.11.0dev-CAPI-1.16.0) is incompatible with the GEOS version PyGEOS was compiled with (3.10.3-CAPI-1.16.1). Conversions between both will be slow.\n",
      "  warnings.warn(\n"
     ]
    }
   ],
   "source": [
    "import geopandas as gpd\n",
    "import os\n",
    "import fiona\n",
    "import matplotlib.pyplot as plt\n",
    "import pandas as pd\n",
    "import re"
   ]
  },
  {
   "cell_type": "code",
   "execution_count": 2,
   "metadata": {},
   "outputs": [],
   "source": [
    "osm_sources = {}\n",
    "osm_sources[\"Matera\"] = \"077_Matera_poly-2022-05-17T07Z.gpkg\"\n",
    "osm_sources['Potenza'] = '076_Potenza_poly-2022-05-17T07Z.gpkg'\n",
    "osm_sources['Campobasso'] = \"070_Campobasso_poly-2022-05-17T07Z.gpkg\"\n",
    "osm_sources['Isernia'] = \"094_Isernia_poly-2022-05-17T07Z.gpkg\"\n",
    "osm_sources['Pesaro e Urbino'] = '041_Pesaro e Urbino_poly-2023-02-25T16Z.gpkg'   \n",
    "osm_sources['Caserta'] = '061_Caserta_poly-2022-05-17T07Z.gpkg'\n",
    "osm_sources['Catanzaro'] = '079_Catanzaro_poly-2022-05-17T07Z.gpkg'\n",
    "osm_sources['Ancona'] = '042_Ancona_poly-2022-05-17T07Z.gpkg'\n",
    "osm_sources['Benevento'] = '062_Benevento_poly-2022-05-17T07Z.gpkg'\n",
    "osm_sources['Reggio di Calabria'] = '080_Reggio di Calabria_poly-2023-02-25T16Z.gpkg'\n",
    "osm_sources['Macerata'] = '043_Macerata_poly-2022-05-17T07Z.gpkg'\n",
    "osm_sources['Napoli'] = '063_Napoli_poly-2022-05-17T07Z.gpkg'\n",
    "osm_sources['Trapani']  = '081_Trapani_poly-2022-05-17T07Z.gpkg'\n",
    "osm_sources['Ascoli Piceno'] = '044_Ascoli Piceno_poly-2023-02-25T16Z.gpkg'\n",
    "osm_sources['Avellino'] = '064_Avellino_poly-2022-05-17T07Z.gpkg'\n",
    "osm_sources['Palermo'] = '082_Palermo_poly-2022-05-17T07Z.gpkg'\n",
    "osm_sources['Massa Carrara'] = '045_Massa-Carrara_poly-2022-05-17T07Z.gpkg'     \n",
    "osm_sources[\"Salerno\"] = \"065_Salerno_poly-2022-05-17T07Z.gpkg\"\n",
    "osm_sources[\"Messina\"] = \"083_Messina_poly-2022-05-17T07Z.gpkg\"\n",
    "osm_sources[\"Lucca\"] = \"046_Lucca_poly-2022-05-17T07Z.gpkg\"\n",
    "osm_sources[\"L'Aquila\"] = \"066_L'Aquila_poly-2023-02-25T16Z.gpkg\"\n",
    "osm_sources[\"Agrigento\"] = \"084_Agrigento_poly-2022-05-17T07Z.gpkg\"\n",
    "osm_sources[\"Pistoia\"] = \"047_Pistoia_poly-2022-05-17T07Z.gpkg\"\n",
    "osm_sources[\"Teramo\"] = \"067_Teramo_poly-2022-05-17T07Z.gpkg\"\n",
    "osm_sources[\"Caltanissetta\"] = \"085_Caltanissetta_poly-2022-05-17T07Z.gpkg\"\n",
    "osm_sources[\"Firenze\"] = \"048_Firenze_poly-2022-05-17T07Z.gpkg\"\n",
    "osm_sources[\"Pescara\"] = \"068_Pescara_poly-2022-05-17T07Z.gpkg\"\n",
    "osm_sources[\"Enna\"] = \"086_Enna_poly-2022-05-17T07Z.gpkg\"\n",
    "osm_sources[\"Livorno\"] = \"049_Livorno_poly-2022-05-17T07Z.gpkg\"\n",
    "osm_sources[\"Chieti\"] = \"069_Chieti_poly-2022-05-17T07Z.gpkg\"\n",
    "osm_sources[\"Catania\"] = \"087_Catania_poly-2022-05-17T07Z.gpkg\"\n",
    "osm_sources[\"Pisa\"] = \"050_Pisa_poly-2022-05-17T07Z.gpkg\"\n",
    "osm_sources[\"Campobasso\"] = \"070_Campobasso_poly-2022-05-17T07Z.gpkg\"\n",
    "osm_sources[\"Ragusa\"] = \"088_Ragusa_poly-2022-05-17T07Z.gpkg\"\n",
    "osm_sources[\"Arezzo\"] = \"051_Arezzo_poly-2022-05-17T07Z.gpkg\"\n",
    "osm_sources[\"Foggia\"] = \"071_Foggia_poly-2022-05-17T07Z.gpkg\"\n",
    "osm_sources[\"Siracusa\"] = \"089_Siracusa_poly-2022-05-17T07Z.gpkg\"\n",
    "osm_sources[\"Siena\"] = \"052_Siena_poly-2022-05-17T07Z.gpkg\"\n",
    "osm_sources[\"Bari\"] = \"072_Bari_poly-2022-05-17T07Z.gpkg\"\n",
    "osm_sources[\"Isernia\"] = \"094_Isernia_poly-2022-05-17T07Z.gpkg\"\n",
    "osm_sources[\"Grosseto\"] = \"053_Grosseto_poly-2022-05-17T07Z.gpkg\"\n",
    "osm_sources[\"Taranto\"] = \"073_Taranto_poly-2022-05-17T07Z.gpkg\"\n",
    "osm_sources[\"Prato\"] = \"100_Prato_poly-2022-05-17T07Z.gpkg\"\n",
    "osm_sources[\"Viterbo\"] = \"056_Viterbo_poly-2022-05-17T07Z.gpkg\"\n",
    "osm_sources[\"Brindisi\"] = \"074_Brindisi_poly-2022-05-17T07Z.gpkg\"\n",
    "osm_sources[\"Crotone\"] = \"101_Crotone_poly-2022-05-17T07Z.gpkg\"\n",
    "osm_sources[\"Vibo Valentia\"] = \"102_Vibo Valentia_poly-2023-02-25T16Z.gpkg\"\n",
    "osm_sources[\"Viterbo\"] = \"056_Viterbo_poly-2022-05-17T07Z.gpkg\"\n",
    "osm_sources[\"Brindisi\"] = \"074_Brindisi_poly-2022-05-17T07Z.gpkg\"\n",
    "osm_sources[\"Rieti\"] = \"057_Rieti_poly-2022-05-17T07Z.gpkg\"\n",
    "osm_sources[\"Lecce\"] = \"075_Lecce_poly-2022-05-17T07Z.gpkg\"\n",
    "osm_sources[\"Vibo Valentia\"] = \"102_Vibo Valentia_poly-2023-02-25T16Z.gpkg\"\n",
    "osm_sources[\"Roma\"] = \"058_Roma Capitale_poly-2023-02-25T16Z.gpkg\"\n",
    "osm_sources[\"Potenza\"] = \"076_Potenza_poly-2022-05-17T07Z.gpkg\"\n",
    "osm_sources[\"Fermo\"] = \"109_Fermo_poly-2022-05-17T07Z.gpkg\"\n",
    "osm_sources[\"Barletta-Andria-Trani\"] = \"110_Barletta-Andria-Trani_poly-2022-05-17T07Z.gpkg\"\n",
    "osm_sources[\"Perugia\"] = \"054_Perugia_poly-2022-05-17T07Z.gpkg\"\n",
    "osm_sources[\"Terni\"] = \"055_Terni_poly-2022-05-17T07Z.gpkg\"\n",
    "provinces = list(osm_sources.keys())"
   ]
  },
  {
   "cell_type": "code",
   "execution_count": 3,
   "metadata": {},
   "outputs": [],
   "source": [
    "igm_sources = {}\n",
    "for k in osm_sources.keys():\n",
    "    name = k + \"_dbsn.gdb\"\n",
    "    igm_sources[k] = name"
   ]
  },
  {
   "cell_type": "code",
   "execution_count": 4,
   "metadata": {},
   "outputs": [],
   "source": [
    "province_regioni = {'Matera': 'Basilicata',\n",
    "                     'Potenza': 'Basilicata',\n",
    "                     'Campobasso': 'Molise',\n",
    "                     'Isernia': 'Molise',\n",
    "                     'Pesaro e Urbino': 'Marche',\n",
    "                     'Caserta': 'Campania',\n",
    "                     'Catanzaro': 'Calabria',\n",
    "                     'Ancona': 'Marche',\n",
    "                     'Benevento': 'Campania',\n",
    "                     'Reggio di Calabria': 'Calabria',\n",
    "                     'Macerata': 'Marche',\n",
    "                     'Napoli': 'Campania',\n",
    "                     'Trapani': 'Sicilia',\n",
    "                     'Ascoli Piceno': 'Marche',\n",
    "                     'Avellino': 'Campania',\n",
    "                     'Palermo': 'Sicilia',\n",
    "                     'Massa Carrara': 'Toscana',\n",
    "                     'Salerno': 'Campania',\n",
    "                     'Messina': 'Sicilia',\n",
    "                     'Lucca': 'Toscana',\n",
    "                     \"L'Aquila\": 'Abruzzo',\n",
    "                     'Agrigento': 'Sicilia',\n",
    "                     'Pistoia': 'Toscana',\n",
    "                     'Teramo': 'Abruzzo',\n",
    "                     'Caltanissetta': 'Sicilia',\n",
    "                     'Firenze': 'Toscana',\n",
    "                     'Pescara': 'Abruzzo',\n",
    "                     'Enna': 'Sicilia',\n",
    "                     'Livorno': 'Toscana',\n",
    "                     'Chieti': 'Abruzzo',\n",
    "                     'Catania': 'Sicilia',\n",
    "                     'Pisa': 'Toscana',\n",
    "                     'Ragusa': 'Sicilia',\n",
    "                     'Arezzo': 'Toscana',\n",
    "                     'Foggia': 'Puglia',\n",
    "                     'Siracusa': 'Sicilia',\n",
    "                     'Siena': 'Toscana',\n",
    "                     'Bari': 'Puglia',\n",
    "                     'Grosseto': 'Toscana',\n",
    "                     'Taranto': 'Puglia',\n",
    "                     'Prato': 'Toscana',\n",
    "                     'Viterbo': 'Lazio',\n",
    "                     'Brindisi': 'Puglia',\n",
    "                     'Crotone': 'Calabria',\n",
    "                     'Vibo Valentia': 'Calabria',\n",
    "                     'Rieti': 'Lazio',\n",
    "                     'Lecce': 'Puglia',\n",
    "                     'Roma': 'Lazio',\n",
    "                     'Fermo': 'Marche',\n",
    "                     'Barletta-Andria-Trani': 'Puglia',\n",
    "                     'Perugia':'Umbria',\n",
    "                     'Terni':'Umbria',\n",
    "                     'Cagliari':'Sardegna',\n",
    "                     'Nuoro':'Sardegna',\n",
    "                     'Oristano':'Sardegna',\n",
    "                     'Sassari':'Sardegna',\n",
    "                     'Sud Sardegna':'Sardegna'}"
   ]
  },
  {
   "cell_type": "code",
   "execution_count": 5,
   "metadata": {},
   "outputs": [
    {
     "name": "stdout",
     "output_type": "stream",
     "text": [
      "['ab_cda', 'acq_in', 'acq_ter', 'af_acq', 'alveo', 'argine', 'ar_mar', 'ar_nat', 'ar_vrd', 'a_scom', 'attr_sp', 'bi_ind', 'bosco', 'caposd', 'cascata', 'cl_agr', 'cm_mon', 'comune', 'condot', 'cs_mar', 'cv_aes', 'cv_dis', 'cv_liv', 'diga', 'edifc', 'edi_min', 'el_acq', 'el_fer', 'el_fne', 'el_fun', 'el_idr', 'el_met', 'el_trv', 'el_vms', 'f_nter', 'ghi_nv', 'gz_fer', 'gz_fun', 'gz_met', 'gz_trv', 'invaso', 'iz_str', 'lm_am', 'ln_btm', 'loc_sg', 'man_tr', 'meta', 'mn_ind', 'mn_int', 'mn_mau', 'mu_div', 'mu_sos', 'nd_ele', 'nd_idr', 'op_por', 'op_reg', 'pe_uins', 'provin', 'ps_inc', 'pt_btm', 'pt_quo', 'region', 'scarpt', 'sc_dis', 'sp_acq', 'stato', 'sv_aer', 'sv_fer', 'sv_por', 'sv_str', 'tralic', 'tr_ele', 'tr_str', 'v_rete', 'z_tin']\n"
     ]
    }
   ],
   "source": [
    "igm_layers_list = fiona.listlayers(\"../\" + igm_sources[\"Perugia\"])\n",
    "print(igm_layers_list)"
   ]
  },
  {
   "cell_type": "code",
   "execution_count": 7,
   "metadata": {},
   "outputs": [
    {
     "name": "stdout",
     "output_type": "stream",
     "text": [
      "Matera\n",
      "Potenza\n",
      "Campobasso\n",
      "Isernia\n",
      "Pesaro e Urbino\n",
      "Caserta\n",
      "Catanzaro\n",
      "Ancona\n",
      "Benevento\n",
      "Reggio di Calabria\n",
      "Macerata\n",
      "Napoli\n",
      "Trapani\n",
      "Ascoli Piceno\n",
      "Avellino\n",
      "Palermo\n",
      "Massa Carrara\n",
      "Salerno\n",
      "Messina\n",
      "Lucca\n",
      "L'Aquila\n",
      "Agrigento\n",
      "Pistoia\n",
      "Teramo\n",
      "Caltanissetta\n",
      "Firenze\n",
      "Pescara\n",
      "Enna\n",
      "Livorno\n",
      "Chieti\n",
      "Catania\n",
      "Pisa\n",
      "Ragusa\n",
      "Arezzo\n",
      "Foggia\n",
      "Siracusa\n",
      "Siena\n",
      "Bari\n",
      "Grosseto\n",
      "Taranto\n",
      "Prato\n",
      "Viterbo\n",
      "Brindisi\n",
      "Crotone\n",
      "Vibo Valentia\n",
      "Rieti\n",
      "Lecce\n",
      "Roma\n"
     ]
    },
    {
     "ename": "KeyboardInterrupt",
     "evalue": "",
     "output_type": "error",
     "traceback": [
      "\u001b[0;31m---------------------------------------------------------------------------\u001b[0m",
      "\u001b[0;31mKeyboardInterrupt\u001b[0m                         Traceback (most recent call last)",
      "Cell \u001b[0;32mIn [7], line 8\u001b[0m\n\u001b[1;32m      6\u001b[0m \u001b[39mfor\u001b[39;00m l \u001b[39min\u001b[39;00m igm_layers_list:\n\u001b[1;32m      7\u001b[0m      fdata \u001b[39m=\u001b[39m {}\n\u001b[0;32m----> 8\u001b[0m      data \u001b[39m=\u001b[39m gpd\u001b[39m.\u001b[39;49mread_file(\u001b[39m\"\u001b[39;49m\u001b[39m../\u001b[39;49m\u001b[39m\"\u001b[39;49m \u001b[39m+\u001b[39;49m igm_sources[province],layer\u001b[39m=\u001b[39;49ml)\n\u001b[1;32m      9\u001b[0m      fdata[\u001b[39m'\u001b[39m\u001b[39mname\u001b[39m\u001b[39m'\u001b[39m] \u001b[39m=\u001b[39m l\n\u001b[1;32m     10\u001b[0m      fdata[\u001b[39m'\u001b[39m\u001b[39mobjects\u001b[39m\u001b[39m'\u001b[39m] \u001b[39m=\u001b[39m data\u001b[39m.\u001b[39mshape[\u001b[39m0\u001b[39m]\n",
      "File \u001b[0;32m~/.local/lib/python3.10/site-packages/geopandas/io/file.py:259\u001b[0m, in \u001b[0;36m_read_file\u001b[0;34m(filename, bbox, mask, rows, engine, **kwargs)\u001b[0m\n\u001b[1;32m    256\u001b[0m     path_or_bytes \u001b[39m=\u001b[39m filename\n\u001b[1;32m    258\u001b[0m \u001b[39mif\u001b[39;00m engine \u001b[39m==\u001b[39m \u001b[39m\"\u001b[39m\u001b[39mfiona\u001b[39m\u001b[39m\"\u001b[39m:\n\u001b[0;32m--> 259\u001b[0m     \u001b[39mreturn\u001b[39;00m _read_file_fiona(\n\u001b[1;32m    260\u001b[0m         path_or_bytes, from_bytes, bbox\u001b[39m=\u001b[39;49mbbox, mask\u001b[39m=\u001b[39;49mmask, rows\u001b[39m=\u001b[39;49mrows, \u001b[39m*\u001b[39;49m\u001b[39m*\u001b[39;49mkwargs\n\u001b[1;32m    261\u001b[0m     )\n\u001b[1;32m    262\u001b[0m \u001b[39melif\u001b[39;00m engine \u001b[39m==\u001b[39m \u001b[39m\"\u001b[39m\u001b[39mpyogrio\u001b[39m\u001b[39m\"\u001b[39m:\n\u001b[1;32m    263\u001b[0m     \u001b[39mreturn\u001b[39;00m _read_file_pyogrio(\n\u001b[1;32m    264\u001b[0m         path_or_bytes, bbox\u001b[39m=\u001b[39mbbox, mask\u001b[39m=\u001b[39mmask, rows\u001b[39m=\u001b[39mrows, \u001b[39m*\u001b[39m\u001b[39m*\u001b[39mkwargs\n\u001b[1;32m    265\u001b[0m     )\n",
      "File \u001b[0;32m~/.local/lib/python3.10/site-packages/geopandas/io/file.py:360\u001b[0m, in \u001b[0;36m_read_file_fiona\u001b[0;34m(path_or_bytes, from_bytes, bbox, mask, rows, where, **kwargs)\u001b[0m\n\u001b[1;32m    356\u001b[0m     df \u001b[39m=\u001b[39m pd\u001b[39m.\u001b[39mDataFrame(\n\u001b[1;32m    357\u001b[0m         [record[\u001b[39m\"\u001b[39m\u001b[39mproperties\u001b[39m\u001b[39m\"\u001b[39m] \u001b[39mfor\u001b[39;00m record \u001b[39min\u001b[39;00m f_filt], columns\u001b[39m=\u001b[39mcolumns\n\u001b[1;32m    358\u001b[0m     )\n\u001b[1;32m    359\u001b[0m \u001b[39melse\u001b[39;00m:\n\u001b[0;32m--> 360\u001b[0m     df \u001b[39m=\u001b[39m GeoDataFrame\u001b[39m.\u001b[39;49mfrom_features(\n\u001b[1;32m    361\u001b[0m         f_filt, crs\u001b[39m=\u001b[39;49mcrs, columns\u001b[39m=\u001b[39;49mcolumns \u001b[39m+\u001b[39;49m [\u001b[39m\"\u001b[39;49m\u001b[39mgeometry\u001b[39;49m\u001b[39m\"\u001b[39;49m]\n\u001b[1;32m    362\u001b[0m     )\n\u001b[1;32m    363\u001b[0m \u001b[39mfor\u001b[39;00m k \u001b[39min\u001b[39;00m datetime_fields:\n\u001b[1;32m    364\u001b[0m     as_dt \u001b[39m=\u001b[39m pd\u001b[39m.\u001b[39mto_datetime(df[k], errors\u001b[39m=\u001b[39m\u001b[39m\"\u001b[39m\u001b[39mignore\u001b[39m\u001b[39m\"\u001b[39m)\n",
      "File \u001b[0;32m~/.local/lib/python3.10/site-packages/geopandas/geodataframe.py:643\u001b[0m, in \u001b[0;36mGeoDataFrame.from_features\u001b[0;34m(cls, features, crs, columns)\u001b[0m\n\u001b[1;32m    641\u001b[0m     row\u001b[39m.\u001b[39mupdate(properties)\n\u001b[1;32m    642\u001b[0m     rows\u001b[39m.\u001b[39mappend(row)\n\u001b[0;32m--> 643\u001b[0m \u001b[39mreturn\u001b[39;00m \u001b[39mcls\u001b[39;49m(rows, columns\u001b[39m=\u001b[39;49mcolumns, crs\u001b[39m=\u001b[39;49mcrs)\n",
      "File \u001b[0;32m~/.local/lib/python3.10/site-packages/geopandas/geodataframe.py:173\u001b[0m, in \u001b[0;36mGeoDataFrame.__init__\u001b[0;34m(self, data, geometry, crs, *args, **kwargs)\u001b[0m\n\u001b[1;32m    166\u001b[0m     \u001b[39mif\u001b[39;00m (\n\u001b[1;32m    167\u001b[0m         \u001b[39mhasattr\u001b[39m(\u001b[39mself\u001b[39m[\u001b[39m\"\u001b[39m\u001b[39mgeometry\u001b[39m\u001b[39m\"\u001b[39m]\u001b[39m.\u001b[39mvalues, \u001b[39m\"\u001b[39m\u001b[39mcrs\u001b[39m\u001b[39m\"\u001b[39m)\n\u001b[1;32m    168\u001b[0m         \u001b[39mand\u001b[39;00m \u001b[39mself\u001b[39m[\u001b[39m\"\u001b[39m\u001b[39mgeometry\u001b[39m\u001b[39m\"\u001b[39m]\u001b[39m.\u001b[39mvalues\u001b[39m.\u001b[39mcrs\n\u001b[1;32m    169\u001b[0m         \u001b[39mand\u001b[39;00m crs\n\u001b[1;32m    170\u001b[0m         \u001b[39mand\u001b[39;00m \u001b[39mnot\u001b[39;00m \u001b[39mself\u001b[39m[\u001b[39m\"\u001b[39m\u001b[39mgeometry\u001b[39m\u001b[39m\"\u001b[39m]\u001b[39m.\u001b[39mvalues\u001b[39m.\u001b[39mcrs \u001b[39m==\u001b[39m crs\n\u001b[1;32m    171\u001b[0m     ):\n\u001b[1;32m    172\u001b[0m         \u001b[39mraise\u001b[39;00m \u001b[39mValueError\u001b[39;00m(crs_mismatch_error)\n\u001b[0;32m--> 173\u001b[0m     \u001b[39mself\u001b[39m[\u001b[39m\"\u001b[39m\u001b[39mgeometry\u001b[39m\u001b[39m\"\u001b[39m] \u001b[39m=\u001b[39m _ensure_geometry(\u001b[39mself\u001b[39;49m[\u001b[39m\"\u001b[39;49m\u001b[39mgeometry\u001b[39;49m\u001b[39m\"\u001b[39;49m]\u001b[39m.\u001b[39;49mvalues, crs)\n\u001b[1;32m    174\u001b[0m \u001b[39mexcept\u001b[39;00m \u001b[39mTypeError\u001b[39;00m:\n\u001b[1;32m    175\u001b[0m     \u001b[39mpass\u001b[39;00m\n",
      "File \u001b[0;32m~/.local/lib/python3.10/site-packages/geopandas/geodataframe.py:62\u001b[0m, in \u001b[0;36m_ensure_geometry\u001b[0;34m(data, crs)\u001b[0m\n\u001b[1;32m     60\u001b[0m     \u001b[39mreturn\u001b[39;00m GeoSeries(out, index\u001b[39m=\u001b[39mdata\u001b[39m.\u001b[39mindex, name\u001b[39m=\u001b[39mdata\u001b[39m.\u001b[39mname)\n\u001b[1;32m     61\u001b[0m \u001b[39melse\u001b[39;00m:\n\u001b[0;32m---> 62\u001b[0m     out \u001b[39m=\u001b[39m from_shapely(data, crs\u001b[39m=\u001b[39;49mcrs)\n\u001b[1;32m     63\u001b[0m     \u001b[39mreturn\u001b[39;00m out\n",
      "File \u001b[0;32m~/.local/lib/python3.10/site-packages/geopandas/array.py:154\u001b[0m, in \u001b[0;36mfrom_shapely\u001b[0;34m(data, crs)\u001b[0m\n\u001b[1;32m    138\u001b[0m \u001b[39mdef\u001b[39;00m \u001b[39mfrom_shapely\u001b[39m(data, crs\u001b[39m=\u001b[39m\u001b[39mNone\u001b[39;00m):\n\u001b[1;32m    139\u001b[0m \u001b[39m    \u001b[39m\u001b[39m\"\"\"\u001b[39;00m\n\u001b[1;32m    140\u001b[0m \u001b[39m    Convert a list or array of shapely objects to a GeometryArray.\u001b[39;00m\n\u001b[1;32m    141\u001b[0m \n\u001b[0;32m   (...)\u001b[0m\n\u001b[1;32m    152\u001b[0m \n\u001b[1;32m    153\u001b[0m \u001b[39m    \"\"\"\u001b[39;00m\n\u001b[0;32m--> 154\u001b[0m     \u001b[39mreturn\u001b[39;00m GeometryArray(vectorized\u001b[39m.\u001b[39;49mfrom_shapely(data), crs\u001b[39m=\u001b[39mcrs)\n",
      "File \u001b[0;32m~/.local/lib/python3.10/site-packages/geopandas/_vectorized.py:133\u001b[0m, in \u001b[0;36mfrom_shapely\u001b[0;34m(data)\u001b[0m\n\u001b[1;32m    131\u001b[0m \u001b[39melif\u001b[39;00m \u001b[39misinstance\u001b[39m(geom, BaseGeometry):\n\u001b[1;32m    132\u001b[0m     \u001b[39mif\u001b[39;00m compat\u001b[39m.\u001b[39mUSE_PYGEOS:\n\u001b[0;32m--> 133\u001b[0m         out\u001b[39m.\u001b[39mappend(_shapely_to_pygeos(geom))\n\u001b[1;32m    134\u001b[0m     \u001b[39melse\u001b[39;00m:\n\u001b[1;32m    135\u001b[0m         out\u001b[39m.\u001b[39mappend(geom)\n",
      "File \u001b[0;32m~/.local/lib/python3.10/site-packages/geopandas/_vectorized.py:102\u001b[0m, in \u001b[0;36m_shapely_to_pygeos\u001b[0;34m(geom)\u001b[0m\n\u001b[1;32m    100\u001b[0m     \u001b[39mreturn\u001b[39;00m pygeos\u001b[39m.\u001b[39mfrom_wkt(\u001b[39m\"\u001b[39m\u001b[39mPOINT EMPTY\u001b[39m\u001b[39m\"\u001b[39m)\n\u001b[1;32m    101\u001b[0m \u001b[39melse\u001b[39;00m:\n\u001b[0;32m--> 102\u001b[0m     \u001b[39mreturn\u001b[39;00m pygeos\u001b[39m.\u001b[39mfrom_wkb(geom\u001b[39m.\u001b[39;49mwkb)\n",
      "File \u001b[0;32m/usr/lib/python3/dist-packages/shapely/geometry/base.py:376\u001b[0m, in \u001b[0;36mBaseGeometry.wkb\u001b[0;34m(self)\u001b[0m\n\u001b[1;32m    373\u001b[0m \u001b[39m@property\u001b[39m\n\u001b[1;32m    374\u001b[0m \u001b[39mdef\u001b[39;00m \u001b[39mwkb\u001b[39m(\u001b[39mself\u001b[39m):\n\u001b[1;32m    375\u001b[0m \u001b[39m    \u001b[39m\u001b[39m\"\"\"WKB representation of the geometry\"\"\"\u001b[39;00m\n\u001b[0;32m--> 376\u001b[0m     \u001b[39mreturn\u001b[39;00m WKBWriter(lgeos)\u001b[39m.\u001b[39;49mwrite(\u001b[39mself\u001b[39;49m)\n",
      "File \u001b[0;32m/usr/lib/python3/dist-packages/shapely/geos.py:556\u001b[0m, in \u001b[0;36mWKBWriter.write\u001b[0;34m(self, geom)\u001b[0m\n\u001b[1;32m    554\u001b[0m     \u001b[39mraise\u001b[39;00m InvalidGeometryError(\u001b[39m\"\u001b[39m\u001b[39mNull geometry supports no operations\u001b[39m\u001b[39m\"\u001b[39m)\n\u001b[1;32m    555\u001b[0m size \u001b[39m=\u001b[39m c_size_t()\n\u001b[0;32m--> 556\u001b[0m result \u001b[39m=\u001b[39m \u001b[39mself\u001b[39;49m\u001b[39m.\u001b[39;49m_lgeos\u001b[39m.\u001b[39;49mGEOSWKBWriter_write(\n\u001b[1;32m    557\u001b[0m     \u001b[39mself\u001b[39;49m\u001b[39m.\u001b[39;49m_writer, geom\u001b[39m.\u001b[39;49m_geom, pointer(size))\n\u001b[1;32m    558\u001b[0m data \u001b[39m=\u001b[39m string_at(result, size\u001b[39m.\u001b[39mvalue)\n\u001b[1;32m    559\u001b[0m lgeos\u001b[39m.\u001b[39mGEOSFree(result)\n",
      "\u001b[0;31mKeyboardInterrupt\u001b[0m: "
     ]
    }
   ],
   "source": [
    "#dfdata = []\n",
    "for province in provinces:\n",
    "     print(province)\n",
    "     dfdata = []\n",
    "     igm_layers_list = fiona.listlayers(\"../\" + igm_sources[province])\n",
    "     for l in igm_layers_list:\n",
    "          fdata = {}\n",
    "          data = gpd.read_file(\"../\" + igm_sources[province],layer=l)\n",
    "          fdata['name'] = l\n",
    "          fdata['objects'] = data.shape[0]\n",
    "          data['meta_ist'] = data['meta_ist'].fillna(\"zero\")\n",
    "          osm_objects = 0\n",
    "          sources = data.meta_ist.unique()\n",
    "          regex = re.compile(r'.*03|=>.*')\n",
    "          find_osm_sources = list(filter(regex.match, sources))\n",
    "          if len(find_osm_sources) > 0:\n",
    "             for id in find_osm_sources:\n",
    "                  osm_objects += data[data.meta_ist == id].shape[0]\n",
    "          fdata['osm_objects'] = osm_objects\n",
    "          fdata['provice'] = province\n",
    "          dfdata.append(fdata)\n",
    "     pd.DataFrame(dfdata).to_parquet(province + \" .parquet\",index=False)\n",
    "          "
   ]
  },
  {
   "cell_type": "code",
   "execution_count": null,
   "metadata": {},
   "outputs": [],
   "source": [
    "pd.DataFrame(dfdata).to_csv(\"/tmp/perugia.csv\",index=False)"
   ]
  }
 ],
 "metadata": {
  "kernelspec": {
   "display_name": "Python 3",
   "language": "python",
   "name": "python3"
  },
  "language_info": {
   "codemirror_mode": {
    "name": "ipython",
    "version": 3
   },
   "file_extension": ".py",
   "mimetype": "text/x-python",
   "name": "python",
   "nbconvert_exporter": "python",
   "pygments_lexer": "ipython3",
   "version": "3.10.6"
  },
  "orig_nbformat": 4,
  "vscode": {
   "interpreter": {
    "hash": "e7370f93d1d0cde622a1f8e1c04877d8463912d04d973331ad4851f04de6915a"
   }
  }
 },
 "nbformat": 4,
 "nbformat_minor": 2
}
