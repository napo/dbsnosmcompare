{
 "cells": [
  {
   "cell_type": "code",
   "execution_count": 6,
   "metadata": {},
   "outputs": [],
   "source": [
    "import geopandas as gpd\n",
    "import os\n",
    "import fiona\n",
    "import matplotlib.pyplot as plt\n",
    "import pandas as pd\n",
    "import re\n",
    "source_dir = \"download\"\n",
    "start_dir = os.getcwd()"
   ]
  },
  {
   "cell_type": "code",
   "execution_count": 7,
   "metadata": {},
   "outputs": [],
   "source": [
    "dir_list = os.listdir(source_dir)\n",
    "provincies = [f.replace(\"_dbsn.gdb\", \"\") for f in dir_list if \"_dbsn.gdb\" in f]"
   ]
  },
  {
   "cell_type": "code",
   "execution_count": 16,
   "metadata": {},
   "outputs": [
    {
     "name": "stdout",
     "output_type": "stream",
     "text": [
      "Catanzaro\n",
      "Catanzaro_dbsn.gdb\n"
     ]
    }
   ],
   "source": [
    "for province in provincies:\n",
    "     print(province)\n",
    "     dfdata = []\n",
    "     filename = province + \"_dbsn.gdb\"\n",
    "     igm_layers_list = fiona.listlayers(filename)\n",
    "     for l in igm_layers_list:\n",
    "          fdata = {}\n",
    "          data = gpd.read_file(filename,layer=l)\n",
    "          fdata['name'] = l\n",
    "          fdata['objects'] = data.shape[0]\n",
    "          data['meta_ist'] = data['meta_ist'].fillna(\"zero\")\n",
    "          osm_objects = 0\n",
    "          sources = data.meta_ist.unique()\n",
    "          regex = re.compile(r'.*03|=>.*')\n",
    "          find_osm_sources = list(filter(regex.match, sources))\n",
    "          if len(find_osm_sources) > 0:\n",
    "             for id in find_osm_sources:\n",
    "                  osm_objects += data[data.meta_ist == id].shape[0]\n",
    "          fdata['osm_objects'] = osm_objects\n",
    "          fdata['provice'] = province\n",
    "          dfdata.append(fdata)\n",
    "     pd.DataFrame(dfdata).to_parquet(province + \"_dbsn.parquet\",index=False)\n",
    "     pd.DataFrame(dfdata).to_csv(province + \"_dbsn.parquet\",index=False)          "
   ]
  }
 ],
 "metadata": {
  "kernelspec": {
   "display_name": "Python 3",
   "language": "python",
   "name": "python3"
  },
  "language_info": {
   "codemirror_mode": {
    "name": "ipython",
    "version": 3
   },
   "file_extension": ".py",
   "mimetype": "text/x-python",
   "name": "python",
   "nbconvert_exporter": "python",
   "pygments_lexer": "ipython3",
   "version": "3.10.6"
  },
  "orig_nbformat": 4,
  "vscode": {
   "interpreter": {
    "hash": "e7370f93d1d0cde622a1f8e1c04877d8463912d04d973331ad4851f04de6915a"
   }
  }
 },
 "nbformat": 4,
 "nbformat_minor": 2
}
