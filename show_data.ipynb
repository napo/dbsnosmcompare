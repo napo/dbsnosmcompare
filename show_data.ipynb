{
 "cells": [
  {
   "cell_type": "code",
   "execution_count": 9,
   "metadata": {},
   "outputs": [],
   "source": [
    "import pandas as pd\n",
    "import glob\n",
    "import os\n",
    "pd.options.mode.chained_assignment = None\n",
    "source_dir = \"download\"\n",
    "start_dir = os.getcwd()\n",
    "dest_dir = \"data\"\n",
    "#06_aggregate_data_osm_igm_comparison.py"
   ]
  },
  {
   "cell_type": "code",
   "execution_count": 10,
   "metadata": {},
   "outputs": [
    {
     "ename": "FileNotFoundError",
     "evalue": "[Errno 2] No such file or directory: 'download'",
     "output_type": "error",
     "traceback": [
      "\u001b[0;31m---------------------------------------------------------------------------\u001b[0m",
      "\u001b[0;31mFileNotFoundError\u001b[0m                         Traceback (most recent call last)",
      "\u001b[1;32m/home/napo/dev/dbsnosmcompare/show_data.ipynb Cella 2\u001b[0m in \u001b[0;36m3\n\u001b[1;32m      <a href='vscode-notebook-cell:/home/napo/dev/dbsnosmcompare/show_data.ipynb#W1sZmlsZQ%3D%3D?line=0'>1</a>\u001b[0m \u001b[39m# search all files inside a specific folder\u001b[39;00m\n\u001b[1;32m      <a href='vscode-notebook-cell:/home/napo/dev/dbsnosmcompare/show_data.ipynb#W1sZmlsZQ%3D%3D?line=1'>2</a>\u001b[0m \u001b[39m# *.* means file name with any extension\u001b[39;00m\n\u001b[0;32m----> <a href='vscode-notebook-cell:/home/napo/dev/dbsnosmcompare/show_data.ipynb#W1sZmlsZQ%3D%3D?line=2'>3</a>\u001b[0m os\u001b[39m.\u001b[39;49mchdir(source_dir)\n\u001b[1;32m      <a href='vscode-notebook-cell:/home/napo/dev/dbsnosmcompare/show_data.ipynb#W1sZmlsZQ%3D%3D?line=3'>4</a>\u001b[0m dir_path \u001b[39m=\u001b[39m \u001b[39mr\u001b[39m\u001b[39m'\u001b[39m\u001b[39m*.parquet\u001b[39m\u001b[39m'\u001b[39m\n\u001b[1;32m      <a href='vscode-notebook-cell:/home/napo/dev/dbsnosmcompare/show_data.ipynb#W1sZmlsZQ%3D%3D?line=4'>5</a>\u001b[0m data_files \u001b[39m=\u001b[39m glob\u001b[39m.\u001b[39mglob(dir_path)\n",
      "\u001b[0;31mFileNotFoundError\u001b[0m: [Errno 2] No such file or directory: 'download'"
     ]
    }
   ],
   "source": [
    "# search all files inside a specific folder\n",
    "# *.* means file name with any extension\n",
    "os.chdir(source_dir)\n",
    "dir_path = r'*.parquet'\n",
    "data_files = glob.glob(dir_path)\n",
    "datafiles = []\n",
    "for f in data_files:\n",
    "    if (f.find(\"_dbsn\") == -1):\n",
    "        datafiles.append(pd.read_parquet(f))\n",
    "data_igm_osm = pd.concat(datafiles)\n",
    "data_igm_osm = data_igm_osm.fillna(0).reset_index()\n",
    "del data_igm_osm['index']\n",
    "columns = data_igm_osm.columns.unique()"
   ]
  },
  {
   "cell_type": "code",
   "execution_count": null,
   "metadata": {},
   "outputs": [],
   "source": [
    "# conversion in km\n",
    "data_igm_osm.area_igm_buildings = data_igm_osm.area_igm_buildings / 1000\n",
    "data_igm_osm.osm_in_igm_streets_length = data_igm_osm.osm_in_igm_streets_length / 1000\n",
    "data_igm_osm.area_igm_buildings = data_igm_osm.area_igm_buildings / 1000\n",
    "data_igm_osm.area_osm_buildings = data_igm_osm.area_osm_buildings / 1000\n",
    "data_igm_osm.osm_streets_length = data_igm_osm.osm_streets_length / 1000\n",
    "data_igm_osm.igm_streets_length = data_igm_osm.igm_streets_length / 1000\n",
    "data_igm_osm.area_osm_in_igm_buildings = data_igm_osm.area_osm_in_igm_buildings / 1000\n",
    "data_igm_osm.osm_in_igm_streets_length = data_igm_osm.osm_in_igm_streets_length / 1000\n"
   ]
  },
  {
   "cell_type": "code",
   "execution_count": null,
   "metadata": {},
   "outputs": [],
   "source": [
    "df1 = data_igm_osm.groupby(\"region\")['area_igm_buildings'].sum().to_frame().reset_index()\n",
    "df2 = data_igm_osm.groupby(\"region\")['area_osm_buildings'].sum().to_frame().reset_index()\n",
    "df3 = data_igm_osm.groupby(\"region\")['area_osm_in_igm_buildings'].sum().to_frame().reset_index()"
   ]
  },
  {
   "cell_type": "code",
   "execution_count": null,
   "metadata": {},
   "outputs": [],
   "source": [
    "df4 = data_igm_osm.groupby(\"region\")['igm_streets_length'].sum().to_frame().reset_index()\n",
    "df5 = data_igm_osm.groupby(\"region\")['osm_streets_length'].sum().to_frame().reset_index()\n",
    "df6 = data_igm_osm.groupby(\"region\")['osm_in_igm_streets_length'].sum().to_frame().reset_index()\n"
   ]
  },
  {
   "cell_type": "code",
   "execution_count": null,
   "metadata": {},
   "outputs": [],
   "source": [
    "regions = df1.merge(df2).merge(df3).merge(df4).merge(df5).merge(df6)"
   ]
  },
  {
   "cell_type": "code",
   "execution_count": null,
   "metadata": {},
   "outputs": [],
   "source": [
    "regions.to_csv(start_dir + os.sep + dest_dir + os.sep + \"regions_osm_igm_comparison.csv\",index=False)"
   ]
  },
  {
   "cell_type": "code",
   "execution_count": null,
   "metadata": {},
   "outputs": [],
   "source": [
    "data_igm_osm.to_csv(start_dir + os.sep + dest_dir + os.sep + \"provinces_osm_igm_comparison.csv\",index=False)"
   ]
  }
 ],
 "metadata": {
  "kernelspec": {
   "display_name": "Python 3",
   "language": "python",
   "name": "python3"
  },
  "language_info": {
   "codemirror_mode": {
    "name": "ipython",
    "version": 3
   },
   "file_extension": ".py",
   "mimetype": "text/x-python",
   "name": "python",
   "nbconvert_exporter": "python",
   "pygments_lexer": "ipython3",
   "version": "3.10.6"
  },
  "orig_nbformat": 4,
  "vscode": {
   "interpreter": {
    "hash": "e7370f93d1d0cde622a1f8e1c04877d8463912d04d973331ad4851f04de6915a"
   }
  }
 },
 "nbformat": 4,
 "nbformat_minor": 2
}
