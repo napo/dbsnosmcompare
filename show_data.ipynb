{
 "cells": [
  {
   "cell_type": "code",
   "execution_count": 1,
   "metadata": {},
   "outputs": [],
   "source": [
    "import pandas as pd\n",
    "import glob\n",
    "import os\n",
    "pd.options.mode.chained_assignment = None\n",
    "source_dir = \"download\"\n",
    "start_dir = os.getcwd()\n",
    "dest_dir = \"data\"\n",
    "#06_aggregate_data_osm_igm_comparison.py"
   ]
  },
  {
   "cell_type": "code",
   "execution_count": 3,
   "metadata": {},
   "outputs": [],
   "source": [
    "# search all files inside a specific folder\n",
    "# *.* means file name with any extension\n",
    "os.chdir(source_dir)\n",
    "dir_path = r'*.parquet'\n",
    "data_files = glob.glob(dir_path)\n",
    "datafiles = []\n",
    "for f in data_files:\n",
    "    if (f.find(\"_dbsn\") == -1):\n",
    "        datafiles.append(pd.read_parquet(f))\n",
    "data_igm_osm = pd.concat(datafiles)\n",
    "data_igm_osm = data_igm_osm.fillna(0).reset_index()\n",
    "del data_igm_osm['index']\n",
    "columns = data_igm_osm.columns.unique()"
   ]
  },
  {
   "cell_type": "code",
   "execution_count": 4,
   "metadata": {},
   "outputs": [],
   "source": [
    "# conversion in km\n",
    "data_igm_osm.area_igm_buildings = data_igm_osm.area_igm_buildings / 1000\n",
    "data_igm_osm.osm_in_igm_streets_length = data_igm_osm.osm_in_igm_streets_length / 1000\n",
    "data_igm_osm.area_igm_buildings = data_igm_osm.area_igm_buildings / 1000\n",
    "data_igm_osm.area_osm_buildings = data_igm_osm.area_osm_buildings / 1000\n",
    "data_igm_osm.osm_streets_length = data_igm_osm.osm_streets_length / 1000\n",
    "data_igm_osm.igm_streets_length = data_igm_osm.igm_streets_length / 1000\n",
    "data_igm_osm.area_osm_in_igm_buildings = data_igm_osm.area_osm_in_igm_buildings / 1000\n",
    "data_igm_osm.osm_in_igm_streets_length = data_igm_osm.osm_in_igm_streets_length / 1000\n"
   ]
  },
  {
   "cell_type": "code",
   "execution_count": 5,
   "metadata": {},
   "outputs": [],
   "source": [
    "df1 = data_igm_osm.groupby(\"region\")['area_igm_buildings'].sum().to_frame().reset_index()\n",
    "df2 = data_igm_osm.groupby(\"region\")['area_osm_buildings'].sum().to_frame().reset_index()\n",
    "df3 = data_igm_osm.groupby(\"region\")['area_osm_in_igm_buildings'].sum().to_frame().reset_index()"
   ]
  },
  {
   "cell_type": "code",
   "execution_count": 6,
   "metadata": {},
   "outputs": [],
   "source": [
    "df4 = data_igm_osm.groupby(\"region\")['igm_streets_length'].sum().to_frame().reset_index()\n",
    "df5 = data_igm_osm.groupby(\"region\")['osm_streets_length'].sum().to_frame().reset_index()\n",
    "df6 = data_igm_osm.groupby(\"region\")['osm_in_igm_streets_length'].sum().to_frame().reset_index()\n"
   ]
  },
  {
   "cell_type": "code",
   "execution_count": 7,
   "metadata": {},
   "outputs": [],
   "source": [
    "regions = df1.merge(df2).merge(df3).merge(df4).merge(df5).merge(df6)"
   ]
  },
  {
   "cell_type": "code",
   "execution_count": 9,
   "metadata": {},
   "outputs": [],
   "source": [
    "regions.to_csv(start_dir + os.sep + dest_dir + os.sep + \"regions_osm_igm_comparison.csv.csv\",index=False)"
   ]
  },
  {
   "cell_type": "code",
   "execution_count": 10,
   "metadata": {},
   "outputs": [],
   "source": [
    "data_igm_osm.to_csv(start_dir + os.sep + dest_dir + os.sep + \"provinces_osm_igm_comparison.csv\",index=False)"
   ]
  }
 ],
 "metadata": {
  "kernelspec": {
   "display_name": "Python 3",
   "language": "python",
   "name": "python3"
  },
  "language_info": {
   "codemirror_mode": {
    "name": "ipython",
    "version": 3
   },
   "file_extension": ".py",
   "mimetype": "text/x-python",
   "name": "python",
   "nbconvert_exporter": "python",
   "pygments_lexer": "ipython3",
   "version": "3.10.6"
  },
  "orig_nbformat": 4,
  "vscode": {
   "interpreter": {
    "hash": "e7370f93d1d0cde622a1f8e1c04877d8463912d04d973331ad4851f04de6915a"
   }
  }
 },
 "nbformat": 4,
 "nbformat_minor": 2
}
