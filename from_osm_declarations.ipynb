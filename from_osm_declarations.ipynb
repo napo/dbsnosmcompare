{
 "cells": [
  {
   "cell_type": "code",
   "execution_count": 1,
   "metadata": {},
   "outputs": [],
   "source": [
    "import pandas as pd\n",
    "import glob\n",
    "import os\n",
    "pd.options.mode.chained_assignment = None\n",
    "source_dir = \"download\"\n",
    "start_dir = os.getcwd()\n",
    "dest_dir = \"data\"\n",
    "#03_join_enrich_dbsn_parquet.py"
   ]
  },
  {
   "cell_type": "code",
   "execution_count": 2,
   "metadata": {},
   "outputs": [],
   "source": [
    "province_region = {'Matera': 'Basilicata',\n",
    "                     'Potenza': 'Basilicata',\n",
    "                     'Campobasso': 'Molise',\n",
    "                     'Isernia': 'Molise',\n",
    "                     'Pesaro e Urbino': 'Marche',\n",
    "                     'Caserta': 'Campania',\n",
    "                     'Catanzaro': 'Calabria',\n",
    "                     'Ancona': 'Marche',\n",
    "                     'Benevento': 'Campania',\n",
    "                     'Reggio di Calabria': 'Calabria',\n",
    "                     'Macerata': 'Marche',\n",
    "                     'Napoli': 'Campania',\n",
    "                     'Trapani': 'Sicilia',\n",
    "                     'Ascoli Piceno': 'Marche',\n",
    "                     'Avellino': 'Campania',\n",
    "                     'Palermo': 'Sicilia',\n",
    "                     'Massa Carrara': 'Toscana',\n",
    "                     'Salerno': 'Campania',\n",
    "                     'Messina': 'Sicilia',\n",
    "                     'Lucca': 'Toscana',\n",
    "                     \"L'Aquila\": 'Abruzzo',\n",
    "                     'Agrigento': 'Sicilia',\n",
    "                     'Pistoia': 'Toscana',\n",
    "                     'Teramo': 'Abruzzo',\n",
    "                     'Caltanissetta': 'Sicilia',\n",
    "                     'Firenze': 'Toscana',\n",
    "                     'Pescara': 'Abruzzo',\n",
    "                     'Enna': 'Sicilia',\n",
    "                     'Livorno': 'Toscana',\n",
    "                     'Chieti': 'Abruzzo',\n",
    "                     'Catania': 'Sicilia',\n",
    "                     'Pisa': 'Toscana',\n",
    "                     'Ragusa': 'Sicilia',\n",
    "                     'Arezzo': 'Toscana',\n",
    "                     'Foggia': 'Puglia',\n",
    "                     'Siracusa': 'Sicilia',\n",
    "                     'Siena': 'Toscana',\n",
    "                     'Bari': 'Puglia',\n",
    "                     'Grosseto': 'Toscana',\n",
    "                     'Taranto': 'Puglia',\n",
    "                     'Prato': 'Toscana',\n",
    "                     'Viterbo': 'Lazio',\n",
    "                     'Brindisi': 'Puglia',\n",
    "                     'Cosenza': 'Calabria',\n",
    "                     'Crotone': 'Calabria',\n",
    "                     'Vibo Valentia': 'Calabria',\n",
    "                     'Rieti': 'Lazio',\n",
    "                     'Latina':'Lazio',\n",
    "                     'Frosinone':'Lazio',\n",
    "                     'Lecce': 'Puglia',\n",
    "                     'Roma': 'Lazio',\n",
    "                     'Fermo': 'Marche',\n",
    "                     'Barletta-Andria-Trani': 'Puglia',\n",
    "                     'Perugia':'Umbria',\n",
    "                     'Terni':'Umbria',\n",
    "                     'Cagliari':'Sardegna',\n",
    "                     'Nuoro':'Sardegna',\n",
    "                     'Oristano':'Sardegna',\n",
    "                     'Sassari':'Sardegna',\n",
    "                     'Sud Sardegna':'Sardegna'}"
   ]
  },
  {
   "cell_type": "code",
   "execution_count": 3,
   "metadata": {},
   "outputs": [],
   "source": [
    "description_url = \"https://docs.google.com/spreadsheets/d/e/2PACX-1vRgAq3z8-cU_Fy88TUxteuTt_jsvUXIyFUFEbTrRuOXl2KFK-dbAgKAogJxUQtKkdPO5QzJm0M59Pw1/pub?gid=973898789&single=true&output=csv\"\n",
    "description_data = pd.read_csv(description_url)"
   ]
  },
  {
   "cell_type": "code",
   "execution_count": 4,
   "metadata": {},
   "outputs": [],
   "source": [
    "description_data = description_data.applymap(lambda x: x.lower() if isinstance(x, str) else x)\n",
    "description_data[\"macro_category_code\"] = description_data[\"macro_category_code\"].apply(lambda x: \"{:02d}\".format(x))\n",
    "description_data[\"category_code\"] = description_data[\"category_code\"].apply(lambda x: \"{:04d}\".format(x))\n",
    "description_data[\"code\"] = description_data[\"code\"].apply(lambda x: \"{:06d}\".format(x))\n"
   ]
  },
  {
   "cell_type": "code",
   "execution_count": 5,
   "metadata": {},
   "outputs": [
    {
     "data": {
      "text/plain": [
       "'/home/napo/dev/dbsnosmcompare'"
      ]
     },
     "execution_count": 5,
     "metadata": {},
     "output_type": "execute_result"
    }
   ],
   "source": [
    "os.getcwd()"
   ]
  },
  {
   "cell_type": "code",
   "execution_count": 6,
   "metadata": {},
   "outputs": [],
   "source": [
    "os.chdir(source_dir)"
   ]
  },
  {
   "cell_type": "code",
   "execution_count": 7,
   "metadata": {},
   "outputs": [],
   "source": [
    "dir_path = r'*_dbsn.parquet'\n",
    "data_files = glob.glob(dir_path)\n",
    "datafiles = []\n",
    "for f in data_files:\n",
    "    datafiles.append(pd.read_parquet(f))"
   ]
  },
  {
   "cell_type": "code",
   "execution_count": 8,
   "metadata": {},
   "outputs": [],
   "source": [
    "data_igm_osm = pd.concat(datafiles)\n",
    "data_igm_osm = data_igm_osm.fillna(0).reset_index()\n",
    "del data_igm_osm['index']\n",
    "columns = data_igm_osm.columns.unique()"
   ]
  },
  {
   "cell_type": "code",
   "execution_count": 9,
   "metadata": {},
   "outputs": [
    {
     "data": {
      "text/html": [
       "<div>\n",
       "<style scoped>\n",
       "    .dataframe tbody tr th:only-of-type {\n",
       "        vertical-align: middle;\n",
       "    }\n",
       "\n",
       "    .dataframe tbody tr th {\n",
       "        vertical-align: top;\n",
       "    }\n",
       "\n",
       "    .dataframe thead th {\n",
       "        text-align: right;\n",
       "    }\n",
       "</style>\n",
       "<table border=\"1\" class=\"dataframe\">\n",
       "  <thead>\n",
       "    <tr style=\"text-align: right;\">\n",
       "      <th></th>\n",
       "      <th>name</th>\n",
       "      <th>objects</th>\n",
       "      <th>osm_objects</th>\n",
       "      <th>provice</th>\n",
       "    </tr>\n",
       "  </thead>\n",
       "  <tbody>\n",
       "    <tr>\n",
       "      <th>0</th>\n",
       "      <td>ab_cda</td>\n",
       "      <td>15</td>\n",
       "      <td>0</td>\n",
       "      <td>Pescara</td>\n",
       "    </tr>\n",
       "    <tr>\n",
       "      <th>1</th>\n",
       "      <td>acq_in</td>\n",
       "      <td>49</td>\n",
       "      <td>0</td>\n",
       "      <td>Pescara</td>\n",
       "    </tr>\n",
       "    <tr>\n",
       "      <th>2</th>\n",
       "      <td>acq_ter</td>\n",
       "      <td>1</td>\n",
       "      <td>0</td>\n",
       "      <td>Pescara</td>\n",
       "    </tr>\n",
       "    <tr>\n",
       "      <th>3</th>\n",
       "      <td>af_acq</td>\n",
       "      <td>143</td>\n",
       "      <td>0</td>\n",
       "      <td>Pescara</td>\n",
       "    </tr>\n",
       "    <tr>\n",
       "      <th>4</th>\n",
       "      <td>alveo</td>\n",
       "      <td>0</td>\n",
       "      <td>0</td>\n",
       "      <td>Pescara</td>\n",
       "    </tr>\n",
       "    <tr>\n",
       "      <th>...</th>\n",
       "      <td>...</td>\n",
       "      <td>...</td>\n",
       "      <td>...</td>\n",
       "      <td>...</td>\n",
       "    </tr>\n",
       "    <tr>\n",
       "      <th>4396</th>\n",
       "      <td>tralic</td>\n",
       "      <td>11263</td>\n",
       "      <td>0</td>\n",
       "      <td>Salerno</td>\n",
       "    </tr>\n",
       "    <tr>\n",
       "      <th>4397</th>\n",
       "      <td>tr_ele</td>\n",
       "      <td>2019</td>\n",
       "      <td>31</td>\n",
       "      <td>Salerno</td>\n",
       "    </tr>\n",
       "    <tr>\n",
       "      <th>4398</th>\n",
       "      <td>tr_str</td>\n",
       "      <td>56497</td>\n",
       "      <td>40269</td>\n",
       "      <td>Salerno</td>\n",
       "    </tr>\n",
       "    <tr>\n",
       "      <th>4399</th>\n",
       "      <td>v_rete</td>\n",
       "      <td>508</td>\n",
       "      <td>0</td>\n",
       "      <td>Salerno</td>\n",
       "    </tr>\n",
       "    <tr>\n",
       "      <th>4400</th>\n",
       "      <td>z_tin</td>\n",
       "      <td>15138</td>\n",
       "      <td>0</td>\n",
       "      <td>Salerno</td>\n",
       "    </tr>\n",
       "  </tbody>\n",
       "</table>\n",
       "<p>4401 rows × 4 columns</p>\n",
       "</div>"
      ],
      "text/plain": [
       "         name  objects  osm_objects  provice\n",
       "0      ab_cda       15            0  Pescara\n",
       "1      acq_in       49            0  Pescara\n",
       "2     acq_ter        1            0  Pescara\n",
       "3      af_acq      143            0  Pescara\n",
       "4       alveo        0            0  Pescara\n",
       "...       ...      ...          ...      ...\n",
       "4396   tralic    11263            0  Salerno\n",
       "4397   tr_ele     2019           31  Salerno\n",
       "4398   tr_str    56497        40269  Salerno\n",
       "4399   v_rete      508            0  Salerno\n",
       "4400    z_tin    15138            0  Salerno\n",
       "\n",
       "[4401 rows x 4 columns]"
      ]
     },
     "execution_count": 9,
     "metadata": {},
     "output_type": "execute_result"
    }
   ],
   "source": [
    "data_igm_osm"
   ]
  },
  {
   "cell_type": "code",
   "execution_count": 10,
   "metadata": {},
   "outputs": [],
   "source": [
    "data_igm_osm['region'] = data_igm_osm['provice'].apply(lambda x: province_region[x])\n",
    "data_igm_osm.rename(columns={'provice':'province'},inplace=True)\n",
    "data = pd.merge(data_igm_osm, description_data, left_on=\"name\", right_on=\"layer_name\")"
   ]
  },
  {
   "cell_type": "code",
   "execution_count": 11,
   "metadata": {},
   "outputs": [],
   "source": [
    "data.to_parquet(start_dir + os.sep + dest_dir + os.sep + \"data_igm_proveniance_osm_provincies.parquet\")"
   ]
  },
  {
   "cell_type": "code",
   "execution_count": 12,
   "metadata": {},
   "outputs": [],
   "source": [
    "data.to_csv(start_dir + os.sep + dest_dir + os.sep  + \"data_igm_proveniance_osm_provincies.csv\",index=False)"
   ]
  }
 ],
 "metadata": {
  "kernelspec": {
   "display_name": "Python 3",
   "language": "python",
   "name": "python3"
  },
  "language_info": {
   "codemirror_mode": {
    "name": "ipython",
    "version": 3
   },
   "file_extension": ".py",
   "mimetype": "text/x-python",
   "name": "python",
   "nbconvert_exporter": "python",
   "pygments_lexer": "ipython3",
   "version": "3.11.2"
  },
  "orig_nbformat": 4,
  "vscode": {
   "interpreter": {
    "hash": "e7370f93d1d0cde622a1f8e1c04877d8463912d04d973331ad4851f04de6915a"
   }
  }
 },
 "nbformat": 4,
 "nbformat_minor": 2
}
