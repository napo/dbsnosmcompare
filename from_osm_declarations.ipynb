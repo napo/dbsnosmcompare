{
 "cells": [
  {
   "cell_type": "code",
   "execution_count": 174,
   "metadata": {},
   "outputs": [],
   "source": [
    "import pandas as pd\n",
    "import glob\n",
    "pd.options.mode.chained_assignment = None"
   ]
  },
  {
   "cell_type": "code",
   "execution_count": 175,
   "metadata": {},
   "outputs": [],
   "source": [
    "province_region = {'Matera': 'Basilicata',\n",
    "                     'Potenza': 'Basilicata',\n",
    "                     'Campobasso': 'Molise',\n",
    "                     'Isernia': 'Molise',\n",
    "                     'Pesaro e Urbino': 'Marche',\n",
    "                     'Caserta': 'Campania',\n",
    "                     'Catanzaro': 'Calabria',\n",
    "                     'Ancona': 'Marche',\n",
    "                     'Benevento': 'Campania',\n",
    "                     'Reggio di Calabria': 'Calabria',\n",
    "                     'Macerata': 'Marche',\n",
    "                     'Napoli': 'Campania',\n",
    "                     'Trapani': 'Sicilia',\n",
    "                     'Ascoli Piceno': 'Marche',\n",
    "                     'Avellino': 'Campania',\n",
    "                     'Palermo': 'Sicilia',\n",
    "                     'Massa Carrara': 'Toscana',\n",
    "                     'Salerno': 'Campania',\n",
    "                     'Messina': 'Sicilia',\n",
    "                     'Lucca': 'Toscana',\n",
    "                     \"L'Aquila\": 'Abruzzo',\n",
    "                     'Agrigento': 'Sicilia',\n",
    "                     'Pistoia': 'Toscana',\n",
    "                     'Teramo': 'Abruzzo',\n",
    "                     'Caltanissetta': 'Sicilia',\n",
    "                     'Firenze': 'Toscana',\n",
    "                     'Pescara': 'Abruzzo',\n",
    "                     'Enna': 'Sicilia',\n",
    "                     'Livorno': 'Toscana',\n",
    "                     'Chieti': 'Abruzzo',\n",
    "                     'Catania': 'Sicilia',\n",
    "                     'Pisa': 'Toscana',\n",
    "                     'Ragusa': 'Sicilia',\n",
    "                     'Arezzo': 'Toscana',\n",
    "                     'Foggia': 'Puglia',\n",
    "                     'Siracusa': 'Sicilia',\n",
    "                     'Siena': 'Toscana',\n",
    "                     'Bari': 'Puglia',\n",
    "                     'Grosseto': 'Toscana',\n",
    "                     'Taranto': 'Puglia',\n",
    "                     'Prato': 'Toscana',\n",
    "                     'Viterbo': 'Lazio',\n",
    "                     'Brindisi': 'Puglia',\n",
    "                     'Crotone': 'Calabria',\n",
    "                     'Vibo Valentia': 'Calabria',\n",
    "                     'Rieti': 'Lazio',\n",
    "                     'Lecce': 'Puglia',\n",
    "                     'Roma': 'Lazio',\n",
    "                     'Fermo': 'Marche',\n",
    "                     'Barletta-Andria-Trani': 'Puglia',\n",
    "                     'Perugia':'Umbria',\n",
    "                     'Terni':'Umbria',\n",
    "                     'Cagliari':'Sardegna',\n",
    "                     'Nuoro':'Sardegna',\n",
    "                     'Oristano':'Sardegna',\n",
    "                     'Sassari':'Sardegna',\n",
    "                     'Sud Sardegna':'Sardegna'}"
   ]
  },
  {
   "cell_type": "code",
   "execution_count": 176,
   "metadata": {},
   "outputs": [],
   "source": [
    "description_url = \"https://docs.google.com/spreadsheets/d/e/2PACX-1vRgAq3z8-cU_Fy88TUxteuTt_jsvUXIyFUFEbTrRuOXl2KFK-dbAgKAogJxUQtKkdPO5QzJm0M59Pw1/pub?gid=973898789&single=true&output=csv\"\n",
    "description_data = pd.read_csv(description_url)"
   ]
  },
  {
   "cell_type": "code",
   "execution_count": 177,
   "metadata": {},
   "outputs": [],
   "source": [
    "description_data = description_data.applymap(lambda x: x.lower() if isinstance(x, str) else x)\n",
    "description_data[\"macro_category_code\"] = description_data[\"macro_category_code\"].apply(lambda x: \"{:02d}\".format(x))\n",
    "description_data[\"category_code\"] = description_data[\"category_code\"].apply(lambda x: \"{:04d}\".format(x))\n",
    "description_data[\"code\"] = description_data[\"code\"].apply(lambda x: \"{:06d}\".format(x))\n"
   ]
  },
  {
   "cell_type": "code",
   "execution_count": 178,
   "metadata": {},
   "outputs": [],
   "source": [
    "dir_path = r'*_dbsn.parquet'\n",
    "data_files = glob.glob(dir_path)\n",
    "datafiles = []\n",
    "for f in data_files:\n",
    "    datafiles.append(pd.read_parquet(f))"
   ]
  },
  {
   "cell_type": "code",
   "execution_count": 179,
   "metadata": {},
   "outputs": [],
   "source": [
    "data_igm_osm = pd.concat(datafiles)\n",
    "data_igm_osm = data_igm_osm.fillna(0).reset_index()\n",
    "del data_igm_osm['index']\n",
    "columns = data_igm_osm.columns.unique()"
   ]
  },
  {
   "cell_type": "code",
   "execution_count": 181,
   "metadata": {},
   "outputs": [],
   "source": [
    "data_igm_osm['region'] = data_igm_osm['provice'].apply(lambda x: province_region[x])\n",
    "data_igm_osm.rename(columns={'provice':'province'},inplace=True)\n",
    "data = pd.merge(data_igm_osm, description_data, left_on=\"name\", right_on=\"layer_name\")"
   ]
  },
  {
   "cell_type": "code",
   "execution_count": 184,
   "metadata": {},
   "outputs": [],
   "source": [
    "data.to_parquet(\"data_igm_proveniance_osm_provincies.parquet\")"
   ]
  },
  {
   "cell_type": "code",
   "execution_count": 185,
   "metadata": {},
   "outputs": [],
   "source": [
    "data.to_parquet(\"data_igm_proveniance_osm_provincies.csv\")"
   ]
  }
 ],
 "metadata": {
  "kernelspec": {
   "display_name": "Python 3",
   "language": "python",
   "name": "python3"
  },
  "language_info": {
   "codemirror_mode": {
    "name": "ipython",
    "version": 3
   },
   "file_extension": ".py",
   "mimetype": "text/x-python",
   "name": "python",
   "nbconvert_exporter": "python",
   "pygments_lexer": "ipython3",
   "version": "3.10.6"
  },
  "orig_nbformat": 4,
  "vscode": {
   "interpreter": {
    "hash": "e7370f93d1d0cde622a1f8e1c04877d8463912d04d973331ad4851f04de6915a"
   }
  }
 },
 "nbformat": 4,
 "nbformat_minor": 2
}
